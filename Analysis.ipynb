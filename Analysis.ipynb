{
  "nbformat": 4,
  "nbformat_minor": 0,
  "metadata": {
    "colab": {
      "provenance": [],
      "authorship_tag": "ABX9TyNSFQ6vKdWRlsvTJSwgOrKF",
      "include_colab_link": true
    },
    "kernelspec": {
      "name": "python3",
      "display_name": "Python 3"
    },
    "language_info": {
      "name": "python"
    }
  },
  "cells": [
    {
      "cell_type": "markdown",
      "metadata": {
        "id": "view-in-github",
        "colab_type": "text"
      },
      "source": [
        "<a href=\"https://colab.research.google.com/github/sejalvyas13/Basic-CYK-Parser/blob/master/Analysis.ipynb\" target=\"_parent\"><img src=\"https://colab.research.google.com/assets/colab-badge.svg\" alt=\"Open In Colab\"/></a>"
      ]
    },
    {
      "cell_type": "code",
      "metadata": {
        "colab": {
          "base_uri": "https://localhost:8080/"
        },
        "id": "gEIttvd3XKug",
        "outputId": "5cd44679-9928-46b7-ecf4-0e14ad40df1f"
      },
      "source": [
        "!git clone https://github.com/neulab/compare-mt.git"
      ],
      "execution_count": null,
      "outputs": [
        {
          "output_type": "stream",
          "text": [
            "Cloning into 'compare-mt'...\n",
            "remote: Enumerating objects: 1440, done.\u001b[K\n",
            "remote: Counting objects: 100% (20/20), done.\u001b[K\n",
            "remote: Compressing objects: 100% (16/16), done.\u001b[K\n",
            "remote: Total 1440 (delta 4), reused 10 (delta 4), pack-reused 1420\u001b[K\n",
            "Receiving objects: 100% (1440/1440), 6.02 MiB | 20.34 MiB/s, done.\n",
            "Resolving deltas: 100% (913/913), done.\n"
          ],
          "name": "stdout"
        }
      ]
    },
    {
      "cell_type": "code",
      "metadata": {
        "colab": {
          "base_uri": "https://localhost:8080/"
        },
        "id": "4hYebMGxl8bM",
        "outputId": "301b823c-4e6e-4d2d-8835-e1ac5c2f3de5"
      },
      "source": [
        "cd compare-mt/"
      ],
      "execution_count": null,
      "outputs": [
        {
          "output_type": "stream",
          "text": [
            "/content/compare-mt\n"
          ],
          "name": "stdout"
        }
      ]
    },
    {
      "cell_type": "code",
      "metadata": {
        "colab": {
          "base_uri": "https://localhost:8080/"
        },
        "id": "C9653ZDNXp4W",
        "outputId": "9d560aea-dea4-43de-f2e2-49d2409bd53a"
      },
      "source": [
        "# Requirements\n",
        "!pip install -r requirements.txt\n",
        "# Install the package\n",
        "!python setup.py install"
      ],
      "execution_count": null,
      "outputs": [
        {
          "output_type": "stream",
          "text": [
            "Requirement already satisfied: nltk>=3.2 in /usr/local/lib/python3.7/dist-packages (from -r requirements.txt (line 1)) (3.2.5)\n",
            "Requirement already satisfied: numpy in /usr/local/lib/python3.7/dist-packages (from -r requirements.txt (line 2)) (1.19.5)\n",
            "Requirement already satisfied: matplotlib in /usr/local/lib/python3.7/dist-packages (from -r requirements.txt (line 3)) (3.2.2)\n",
            "Requirement already satisfied: absl-py in /usr/local/lib/python3.7/dist-packages (from -r requirements.txt (line 4)) (0.12.0)\n",
            "Collecting sacrebleu\n",
            "\u001b[?25l  Downloading https://files.pythonhosted.org/packages/7e/57/0c7ca4e31a126189dab99c19951910bd081dea5bbd25f24b77107750eae7/sacrebleu-1.5.1-py3-none-any.whl (54kB)\n",
            "\u001b[K     |████████████████████████████████| 61kB 3.3MB/s \n",
            "\u001b[?25hRequirement already satisfied: six in /usr/local/lib/python3.7/dist-packages (from nltk>=3.2->-r requirements.txt (line 1)) (1.15.0)\n",
            "Requirement already satisfied: pyparsing!=2.0.4,!=2.1.2,!=2.1.6,>=2.0.1 in /usr/local/lib/python3.7/dist-packages (from matplotlib->-r requirements.txt (line 3)) (2.4.7)\n",
            "Requirement already satisfied: kiwisolver>=1.0.1 in /usr/local/lib/python3.7/dist-packages (from matplotlib->-r requirements.txt (line 3)) (1.3.1)\n",
            "Requirement already satisfied: python-dateutil>=2.1 in /usr/local/lib/python3.7/dist-packages (from matplotlib->-r requirements.txt (line 3)) (2.8.1)\n",
            "Requirement already satisfied: cycler>=0.10 in /usr/local/lib/python3.7/dist-packages (from matplotlib->-r requirements.txt (line 3)) (0.10.0)\n",
            "Collecting portalocker==2.0.0\n",
            "  Downloading https://files.pythonhosted.org/packages/89/a6/3814b7107e0788040870e8825eebf214d72166adf656ba7d4bf14759a06a/portalocker-2.0.0-py2.py3-none-any.whl\n",
            "Installing collected packages: portalocker, sacrebleu\n",
            "Successfully installed portalocker-2.0.0 sacrebleu-1.5.1\n",
            "running install\n",
            "running bdist_egg\n",
            "running egg_info\n",
            "creating compare_mt.egg-info\n",
            "writing compare_mt.egg-info/PKG-INFO\n",
            "writing dependency_links to compare_mt.egg-info/dependency_links.txt\n",
            "writing entry points to compare_mt.egg-info/entry_points.txt\n",
            "writing requirements to compare_mt.egg-info/requires.txt\n",
            "writing top-level names to compare_mt.egg-info/top_level.txt\n",
            "writing manifest file 'compare_mt.egg-info/SOURCES.txt'\n",
            "INFO:root:Generating grammar tables from /usr/lib/python3.7/lib2to3/Grammar.txt\n",
            "INFO:root:Generating grammar tables from /usr/lib/python3.7/lib2to3/PatternGrammar.txt\n",
            "adding license file 'LICENSE' (matched pattern 'LICEN[CS]E*')\n",
            "writing manifest file 'compare_mt.egg-info/SOURCES.txt'\n",
            "installing library code to build/bdist.linux-x86_64/egg\n",
            "running install_lib\n",
            "running build_py\n",
            "creating build\n",
            "creating build/lib\n",
            "creating build/lib/compare_mt\n",
            "copying compare_mt/formatting.py -> build/lib/compare_mt\n",
            "copying compare_mt/reporters.py -> build/lib/compare_mt\n",
            "copying compare_mt/sign_utils.py -> build/lib/compare_mt\n",
            "copying compare_mt/compare_mt_main.py -> build/lib/compare_mt\n",
            "copying compare_mt/stat_utils.py -> build/lib/compare_mt\n",
            "copying compare_mt/arg_utils.py -> build/lib/compare_mt\n",
            "copying compare_mt/cache_utils.py -> build/lib/compare_mt\n",
            "copying compare_mt/ngram_utils.py -> build/lib/compare_mt\n",
            "copying compare_mt/__init__.py -> build/lib/compare_mt\n",
            "copying compare_mt/align_utils.py -> build/lib/compare_mt\n",
            "copying compare_mt/print_utils.py -> build/lib/compare_mt\n",
            "copying compare_mt/scorers.py -> build/lib/compare_mt\n",
            "copying compare_mt/bucketers.py -> build/lib/compare_mt\n",
            "copying compare_mt/compare_ll_main.py -> build/lib/compare_mt\n",
            "copying compare_mt/corpus_utils.py -> build/lib/compare_mt\n",
            "creating build/lib/tests\n",
            "copying tests/test_cache.py -> build/lib/tests\n",
            "copying tests/__init__.py -> build/lib/tests\n",
            "copying tests/test_scorers.py -> build/lib/tests\n",
            "creating build/lib/compare_mt/rouge\n",
            "copying compare_mt/rouge/tokenize.py -> build/lib/compare_mt/rouge\n",
            "copying compare_mt/rouge/rouge.py -> build/lib/compare_mt/rouge\n",
            "copying compare_mt/rouge/__init__.py -> build/lib/compare_mt/rouge\n",
            "copying compare_mt/rouge/scoring.py -> build/lib/compare_mt/rouge\n",
            "copying compare_mt/rouge/io.py -> build/lib/compare_mt/rouge\n",
            "copying compare_mt/rouge/rouge_scorer.py -> build/lib/compare_mt/rouge\n",
            "copying compare_mt/rouge/README.md -> build/lib/compare_mt/rouge\n",
            "copying compare_mt/rouge/requirements.txt -> build/lib/compare_mt/rouge\n",
            "copying compare_mt/rouge/run.sh -> build/lib/compare_mt/rouge\n",
            "creating build/bdist.linux-x86_64\n",
            "creating build/bdist.linux-x86_64/egg\n",
            "creating build/bdist.linux-x86_64/egg/compare_mt\n",
            "copying build/lib/compare_mt/formatting.py -> build/bdist.linux-x86_64/egg/compare_mt\n",
            "copying build/lib/compare_mt/reporters.py -> build/bdist.linux-x86_64/egg/compare_mt\n",
            "copying build/lib/compare_mt/sign_utils.py -> build/bdist.linux-x86_64/egg/compare_mt\n",
            "copying build/lib/compare_mt/compare_mt_main.py -> build/bdist.linux-x86_64/egg/compare_mt\n",
            "copying build/lib/compare_mt/stat_utils.py -> build/bdist.linux-x86_64/egg/compare_mt\n",
            "creating build/bdist.linux-x86_64/egg/compare_mt/rouge\n",
            "copying build/lib/compare_mt/rouge/tokenize.py -> build/bdist.linux-x86_64/egg/compare_mt/rouge\n",
            "copying build/lib/compare_mt/rouge/run.sh -> build/bdist.linux-x86_64/egg/compare_mt/rouge\n",
            "copying build/lib/compare_mt/rouge/rouge.py -> build/bdist.linux-x86_64/egg/compare_mt/rouge\n",
            "copying build/lib/compare_mt/rouge/__init__.py -> build/bdist.linux-x86_64/egg/compare_mt/rouge\n",
            "copying build/lib/compare_mt/rouge/scoring.py -> build/bdist.linux-x86_64/egg/compare_mt/rouge\n",
            "copying build/lib/compare_mt/rouge/io.py -> build/bdist.linux-x86_64/egg/compare_mt/rouge\n",
            "copying build/lib/compare_mt/rouge/requirements.txt -> build/bdist.linux-x86_64/egg/compare_mt/rouge\n",
            "copying build/lib/compare_mt/rouge/README.md -> build/bdist.linux-x86_64/egg/compare_mt/rouge\n",
            "copying build/lib/compare_mt/rouge/rouge_scorer.py -> build/bdist.linux-x86_64/egg/compare_mt/rouge\n",
            "copying build/lib/compare_mt/arg_utils.py -> build/bdist.linux-x86_64/egg/compare_mt\n",
            "copying build/lib/compare_mt/cache_utils.py -> build/bdist.linux-x86_64/egg/compare_mt\n",
            "copying build/lib/compare_mt/ngram_utils.py -> build/bdist.linux-x86_64/egg/compare_mt\n",
            "copying build/lib/compare_mt/__init__.py -> build/bdist.linux-x86_64/egg/compare_mt\n",
            "copying build/lib/compare_mt/align_utils.py -> build/bdist.linux-x86_64/egg/compare_mt\n",
            "copying build/lib/compare_mt/print_utils.py -> build/bdist.linux-x86_64/egg/compare_mt\n",
            "copying build/lib/compare_mt/scorers.py -> build/bdist.linux-x86_64/egg/compare_mt\n",
            "copying build/lib/compare_mt/bucketers.py -> build/bdist.linux-x86_64/egg/compare_mt\n",
            "copying build/lib/compare_mt/compare_ll_main.py -> build/bdist.linux-x86_64/egg/compare_mt\n",
            "copying build/lib/compare_mt/corpus_utils.py -> build/bdist.linux-x86_64/egg/compare_mt\n",
            "creating build/bdist.linux-x86_64/egg/tests\n",
            "copying build/lib/tests/test_cache.py -> build/bdist.linux-x86_64/egg/tests\n",
            "copying build/lib/tests/__init__.py -> build/bdist.linux-x86_64/egg/tests\n",
            "copying build/lib/tests/test_scorers.py -> build/bdist.linux-x86_64/egg/tests\n",
            "byte-compiling build/bdist.linux-x86_64/egg/compare_mt/formatting.py to formatting.cpython-37.pyc\n",
            "byte-compiling build/bdist.linux-x86_64/egg/compare_mt/reporters.py to reporters.cpython-37.pyc\n",
            "byte-compiling build/bdist.linux-x86_64/egg/compare_mt/sign_utils.py to sign_utils.cpython-37.pyc\n",
            "byte-compiling build/bdist.linux-x86_64/egg/compare_mt/compare_mt_main.py to compare_mt_main.cpython-37.pyc\n",
            "byte-compiling build/bdist.linux-x86_64/egg/compare_mt/stat_utils.py to stat_utils.cpython-37.pyc\n",
            "byte-compiling build/bdist.linux-x86_64/egg/compare_mt/rouge/tokenize.py to tokenize.cpython-37.pyc\n",
            "byte-compiling build/bdist.linux-x86_64/egg/compare_mt/rouge/rouge.py to rouge.cpython-37.pyc\n",
            "byte-compiling build/bdist.linux-x86_64/egg/compare_mt/rouge/__init__.py to __init__.cpython-37.pyc\n",
            "byte-compiling build/bdist.linux-x86_64/egg/compare_mt/rouge/scoring.py to scoring.cpython-37.pyc\n",
            "byte-compiling build/bdist.linux-x86_64/egg/compare_mt/rouge/io.py to io.cpython-37.pyc\n",
            "byte-compiling build/bdist.linux-x86_64/egg/compare_mt/rouge/rouge_scorer.py to rouge_scorer.cpython-37.pyc\n",
            "byte-compiling build/bdist.linux-x86_64/egg/compare_mt/arg_utils.py to arg_utils.cpython-37.pyc\n",
            "byte-compiling build/bdist.linux-x86_64/egg/compare_mt/cache_utils.py to cache_utils.cpython-37.pyc\n",
            "byte-compiling build/bdist.linux-x86_64/egg/compare_mt/ngram_utils.py to ngram_utils.cpython-37.pyc\n",
            "byte-compiling build/bdist.linux-x86_64/egg/compare_mt/__init__.py to __init__.cpython-37.pyc\n",
            "byte-compiling build/bdist.linux-x86_64/egg/compare_mt/align_utils.py to align_utils.cpython-37.pyc\n",
            "byte-compiling build/bdist.linux-x86_64/egg/compare_mt/print_utils.py to print_utils.cpython-37.pyc\n",
            "byte-compiling build/bdist.linux-x86_64/egg/compare_mt/scorers.py to scorers.cpython-37.pyc\n",
            "byte-compiling build/bdist.linux-x86_64/egg/compare_mt/bucketers.py to bucketers.cpython-37.pyc\n",
            "byte-compiling build/bdist.linux-x86_64/egg/compare_mt/compare_ll_main.py to compare_ll_main.cpython-37.pyc\n",
            "byte-compiling build/bdist.linux-x86_64/egg/compare_mt/corpus_utils.py to corpus_utils.cpython-37.pyc\n",
            "byte-compiling build/bdist.linux-x86_64/egg/tests/test_cache.py to test_cache.cpython-37.pyc\n",
            "byte-compiling build/bdist.linux-x86_64/egg/tests/__init__.py to __init__.cpython-37.pyc\n",
            "byte-compiling build/bdist.linux-x86_64/egg/tests/test_scorers.py to test_scorers.cpython-37.pyc\n",
            "creating build/bdist.linux-x86_64/egg/EGG-INFO\n",
            "copying compare_mt.egg-info/PKG-INFO -> build/bdist.linux-x86_64/egg/EGG-INFO\n",
            "copying compare_mt.egg-info/SOURCES.txt -> build/bdist.linux-x86_64/egg/EGG-INFO\n",
            "copying compare_mt.egg-info/dependency_links.txt -> build/bdist.linux-x86_64/egg/EGG-INFO\n",
            "copying compare_mt.egg-info/entry_points.txt -> build/bdist.linux-x86_64/egg/EGG-INFO\n",
            "copying compare_mt.egg-info/requires.txt -> build/bdist.linux-x86_64/egg/EGG-INFO\n",
            "copying compare_mt.egg-info/top_level.txt -> build/bdist.linux-x86_64/egg/EGG-INFO\n",
            "zip_safe flag not set; analyzing archive contents...\n",
            "tests.__pycache__.test_cache.cpython-37: module references __file__\n",
            "tests.__pycache__.test_scorers.cpython-37: module references __file__\n",
            "creating dist\n",
            "creating 'dist/compare_mt-0.2.8-py3.7.egg' and adding 'build/bdist.linux-x86_64/egg' to it\n",
            "removing 'build/bdist.linux-x86_64/egg' (and everything under it)\n",
            "Processing compare_mt-0.2.8-py3.7.egg\n",
            "creating /usr/local/lib/python3.7/dist-packages/compare_mt-0.2.8-py3.7.egg\n",
            "Extracting compare_mt-0.2.8-py3.7.egg to /usr/local/lib/python3.7/dist-packages\n",
            "Adding compare-mt 0.2.8 to easy-install.pth file\n",
            "Installing compare-ll script to /usr/local/bin\n",
            "Installing compare-mt script to /usr/local/bin\n",
            "\n",
            "Installed /usr/local/lib/python3.7/dist-packages/compare_mt-0.2.8-py3.7.egg\n",
            "Processing dependencies for compare-mt==0.2.8\n",
            "Searching for sacrebleu==1.5.1\n",
            "Best match: sacrebleu 1.5.1\n",
            "Adding sacrebleu 1.5.1 to easy-install.pth file\n",
            "Installing sacrebleu script to /usr/local/bin\n",
            "\n",
            "Using /usr/local/lib/python3.7/dist-packages\n",
            "Searching for absl-py==0.12.0\n",
            "Best match: absl-py 0.12.0\n",
            "Adding absl-py 0.12.0 to easy-install.pth file\n",
            "\n",
            "Using /usr/local/lib/python3.7/dist-packages\n",
            "Searching for matplotlib==3.2.2\n",
            "Best match: matplotlib 3.2.2\n",
            "Adding matplotlib 3.2.2 to easy-install.pth file\n",
            "\n",
            "Using /usr/local/lib/python3.7/dist-packages\n",
            "Searching for numpy==1.19.5\n",
            "Best match: numpy 1.19.5\n",
            "Adding numpy 1.19.5 to easy-install.pth file\n",
            "Installing f2py script to /usr/local/bin\n",
            "Installing f2py3 script to /usr/local/bin\n",
            "Installing f2py3.7 script to /usr/local/bin\n",
            "\n",
            "Using /usr/local/lib/python3.7/dist-packages\n",
            "Searching for nltk==3.2.5\n",
            "Best match: nltk 3.2.5\n",
            "Adding nltk 3.2.5 to easy-install.pth file\n",
            "\n",
            "Using /usr/local/lib/python3.7/dist-packages\n",
            "Searching for portalocker==2.0.0\n",
            "Best match: portalocker 2.0.0\n",
            "Adding portalocker 2.0.0 to easy-install.pth file\n",
            "\n",
            "Using /usr/local/lib/python3.7/dist-packages\n",
            "Searching for six==1.15.0\n",
            "Best match: six 1.15.0\n",
            "Adding six 1.15.0 to easy-install.pth file\n",
            "\n",
            "Using /usr/local/lib/python3.7/dist-packages\n",
            "Searching for cycler==0.10.0\n",
            "Best match: cycler 0.10.0\n",
            "Adding cycler 0.10.0 to easy-install.pth file\n",
            "\n",
            "Using /usr/local/lib/python3.7/dist-packages\n",
            "Searching for kiwisolver==1.3.1\n",
            "Best match: kiwisolver 1.3.1\n",
            "Adding kiwisolver 1.3.1 to easy-install.pth file\n",
            "\n",
            "Using /usr/local/lib/python3.7/dist-packages\n",
            "Searching for python-dateutil==2.8.1\n",
            "Best match: python-dateutil 2.8.1\n",
            "Adding python-dateutil 2.8.1 to easy-install.pth file\n",
            "\n",
            "Using /usr/local/lib/python3.7/dist-packages\n",
            "Searching for pyparsing==2.4.7\n",
            "Best match: pyparsing 2.4.7\n",
            "Adding pyparsing 2.4.7 to easy-install.pth file\n",
            "\n",
            "Using /usr/local/lib/python3.7/dist-packages\n",
            "Finished processing dependencies for compare-mt==0.2.8\n"
          ],
          "name": "stdout"
        }
      ]
    },
    {
      "cell_type": "code",
      "metadata": {
        "id": "hyHx6Zkseovw"
      },
      "source": [
        "mkdir output"
      ],
      "execution_count": null,
      "outputs": []
    },
    {
      "cell_type": "code",
      "metadata": {
        "colab": {
          "base_uri": "https://localhost:8080/",
          "height": 35
        },
        "id": "fJ7N3Uaogd97",
        "outputId": "7b2af807-5753-45c0-f187-e4de80f541a6"
      },
      "source": [
        "pwd"
      ],
      "execution_count": null,
      "outputs": [
        {
          "output_type": "execute_result",
          "data": {
            "application/vnd.google.colaboratory.intrinsic+json": {
              "type": "string"
            },
            "text/plain": [
              "'/content/compare-mt'"
            ]
          },
          "metadata": {
            "tags": []
          },
          "execution_count": 7
        }
      ]
    },
    {
      "cell_type": "markdown",
      "metadata": {
        "id": "ukqqutz7fcj1"
      },
      "source": [
        "MTNT"
      ]
    },
    {
      "cell_type": "code",
      "metadata": {
        "colab": {
          "base_uri": "https://localhost:8080/"
        },
        "id": "pjT1WrhqjJpH",
        "outputId": "6ae8669f-a16f-46f0-9708-1017126f5f32"
      },
      "source": [
        "!compare-mt --output_directory output/ analysis/MTNT_ref.txt analysis/MTNT_baseline_translate.txt analysis/MTNT_tagged.txt"
      ],
      "execution_count": null,
      "outputs": [
        {
          "output_type": "stream",
          "text": [
            "Traceback (most recent call last):\n",
            "  File \"/usr/local/bin/compare-mt\", line 33, in <module>\n",
            "    sys.exit(load_entry_point('compare-mt==0.2.8', 'console_scripts', 'compare-mt')())\n",
            "  File \"/usr/local/lib/python3.7/dist-packages/compare_mt-0.2.8-py3.7.egg/compare_mt/compare_mt_main.py\", line 631, in main\n",
            "    ref = corpus_utils.load_tokens(args.ref_file)\n",
            "  File \"/usr/local/lib/python3.7/dist-packages/compare_mt-0.2.8-py3.7.egg/compare_mt/corpus_utils.py\", line 7, in load_tokens\n",
            "    return list(iterate_tokens(filename))\n",
            "  File \"/usr/local/lib/python3.7/dist-packages/compare_mt-0.2.8-py3.7.egg/compare_mt/corpus_utils.py\", line 2, in iterate_tokens\n",
            "    with open(filename, \"r\", encoding=\"utf-8\") as f:\n",
            "FileNotFoundError: [Errno 2] No such file or directory: 'analysis/MTNT_ref.txt'\n"
          ],
          "name": "stdout"
        }
      ]
    },
    {
      "cell_type": "code",
      "metadata": {
        "colab": {
          "base_uri": "https://localhost:8080/",
          "height": 34
        },
        "id": "L7apkrhW2Uix",
        "outputId": "fd8fc53b-001f-4e30-9b2a-527a6aefabd0"
      },
      "source": [
        "from google.colab import files\n",
        "files.download('output')"
      ],
      "execution_count": null,
      "outputs": [
        {
          "output_type": "display_data",
          "data": {
            "application/javascript": [
              "\n",
              "    async function download(id, filename, size) {\n",
              "      if (!google.colab.kernel.accessAllowed) {\n",
              "        return;\n",
              "      }\n",
              "      const div = document.createElement('div');\n",
              "      const label = document.createElement('label');\n",
              "      label.textContent = `Downloading \"${filename}\": `;\n",
              "      div.appendChild(label);\n",
              "      const progress = document.createElement('progress');\n",
              "      progress.max = size;\n",
              "      div.appendChild(progress);\n",
              "      document.body.appendChild(div);\n",
              "\n",
              "      const buffers = [];\n",
              "      let downloaded = 0;\n",
              "\n",
              "      const channel = await google.colab.kernel.comms.open(id);\n",
              "      // Send a message to notify the kernel that we're ready.\n",
              "      channel.send({})\n",
              "\n",
              "      for await (const message of channel.messages) {\n",
              "        // Send a message to notify the kernel that we're ready.\n",
              "        channel.send({})\n",
              "        if (message.buffers) {\n",
              "          for (const buffer of message.buffers) {\n",
              "            buffers.push(buffer);\n",
              "            downloaded += buffer.byteLength;\n",
              "            progress.value = downloaded;\n",
              "          }\n",
              "        }\n",
              "      }\n",
              "      const blob = new Blob(buffers, {type: 'application/binary'});\n",
              "      const a = document.createElement('a');\n",
              "      a.href = window.URL.createObjectURL(blob);\n",
              "      a.download = filename;\n",
              "      div.appendChild(a);\n",
              "      a.click();\n",
              "      div.remove();\n",
              "    }\n",
              "  "
            ],
            "text/plain": [
              "<IPython.core.display.Javascript object>"
            ]
          },
          "metadata": {
            "tags": []
          }
        },
        {
          "output_type": "display_data",
          "data": {
            "application/javascript": [
              "download(\"download_9461401f-8385-4353-a9c9-3167b7d2070e\", \"output\", 4096)"
            ],
            "text/plain": [
              "<IPython.core.display.Javascript object>"
            ]
          },
          "metadata": {
            "tags": []
          }
        }
      ]
    },
    {
      "cell_type": "code",
      "metadata": {
        "colab": {
          "base_uri": "https://localhost:8080/",
          "height": 35
        },
        "id": "-X73TP4Q3TGo",
        "outputId": "387d7458-ab60-4c0d-89a2-937ed622fd8c"
      },
      "source": [
        "pwd"
      ],
      "execution_count": null,
      "outputs": [
        {
          "output_type": "execute_result",
          "data": {
            "application/vnd.google.colaboratory.intrinsic+json": {
              "type": "string"
            },
            "text/plain": [
              "'/content/compare-mt'"
            ]
          },
          "metadata": {
            "tags": []
          },
          "execution_count": 36
        }
      ]
    },
    {
      "cell_type": "code",
      "metadata": {
        "id": "U--GxYbq3DNb"
      },
      "source": [
        "!zip -r output/mtnt_output.zip output/\n"
      ],
      "execution_count": null,
      "outputs": []
    },
    {
      "cell_type": "code",
      "metadata": {
        "colab": {
          "base_uri": "https://localhost:8080/",
          "height": 17
        },
        "id": "UlvUB8eM3K3V",
        "outputId": "bb098098-10b3-4e0e-f3e1-d0b0fce946b7"
      },
      "source": [
        "from google.colab import files\n",
        "files.download('output/mtnt_output.zip')"
      ],
      "execution_count": null,
      "outputs": [
        {
          "output_type": "display_data",
          "data": {
            "application/javascript": [
              "\n",
              "    async function download(id, filename, size) {\n",
              "      if (!google.colab.kernel.accessAllowed) {\n",
              "        return;\n",
              "      }\n",
              "      const div = document.createElement('div');\n",
              "      const label = document.createElement('label');\n",
              "      label.textContent = `Downloading \"${filename}\": `;\n",
              "      div.appendChild(label);\n",
              "      const progress = document.createElement('progress');\n",
              "      progress.max = size;\n",
              "      div.appendChild(progress);\n",
              "      document.body.appendChild(div);\n",
              "\n",
              "      const buffers = [];\n",
              "      let downloaded = 0;\n",
              "\n",
              "      const channel = await google.colab.kernel.comms.open(id);\n",
              "      // Send a message to notify the kernel that we're ready.\n",
              "      channel.send({})\n",
              "\n",
              "      for await (const message of channel.messages) {\n",
              "        // Send a message to notify the kernel that we're ready.\n",
              "        channel.send({})\n",
              "        if (message.buffers) {\n",
              "          for (const buffer of message.buffers) {\n",
              "            buffers.push(buffer);\n",
              "            downloaded += buffer.byteLength;\n",
              "            progress.value = downloaded;\n",
              "          }\n",
              "        }\n",
              "      }\n",
              "      const blob = new Blob(buffers, {type: 'application/binary'});\n",
              "      const a = document.createElement('a');\n",
              "      a.href = window.URL.createObjectURL(blob);\n",
              "      a.download = filename;\n",
              "      div.appendChild(a);\n",
              "      a.click();\n",
              "      div.remove();\n",
              "    }\n",
              "  "
            ],
            "text/plain": [
              "<IPython.core.display.Javascript object>"
            ]
          },
          "metadata": {
            "tags": []
          }
        },
        {
          "output_type": "display_data",
          "data": {
            "application/javascript": [
              "download(\"download_514cdfd8-a327-45b6-b4e4-7d3204bb30aa\", \"mtnt_output.zip\", 166996)"
            ],
            "text/plain": [
              "<IPython.core.display.Javascript object>"
            ]
          },
          "metadata": {
            "tags": []
          }
        }
      ]
    },
    {
      "cell_type": "code",
      "metadata": {
        "id": "zMKF7VE5uWos"
      },
      "source": [
        "mkdir output_iwslt"
      ],
      "execution_count": null,
      "outputs": []
    },
    {
      "cell_type": "code",
      "metadata": {
        "colab": {
          "base_uri": "https://localhost:8080/"
        },
        "id": "HgVAwYXxjueZ",
        "outputId": "836a1d5c-cf16-4e8e-8206-eac6cc693cca"
      },
      "source": [
        "!compare-mt --output_directory output_iwslt/  analysis/IWSLT_ref.txt analysis/IWSLT_baseline.txt analysis/IWSLT_tagged2.txt"
      ],
      "execution_count": null,
      "outputs": [
        {
          "output_type": "stream",
          "text": [
            "********************** Aggregate Scores ************************\n",
            "BLEU:\n",
            "\tsys1\tsys2\n",
            "BLEU\t13.1866\t8.0516\n",
            "\n",
            "********************** Aggregate Scores ************************\n",
            "length ratio:\n",
            "\tsys1\tsys2\n",
            "length ratio\t0.8579 (ref=28156, out=24154)\t0.8660 (ref=28156, out=24383)\n",
            "\n",
            "Reading frequency from the reference\n",
            "********************** Word Accuracy Analysis ************************\n",
            "--- word fmeas by frequency bucket\n",
            "frequency\tsys1\tsys2\n",
            "<1\t0.0000\t0.0000\n",
            "1\t0.2809\t0.1474\n",
            "2\t0.3835\t0.2470\n",
            "3\t0.4396\t0.2904\n",
            "4\t0.3729\t0.2390\n",
            "[5,10)\t0.4273\t0.3182\n",
            "[10,100)\t0.4459\t0.3683\n",
            "[100,1000)\t0.4902\t0.4880\n",
            ">=1000\t0.3123\t0.2931\n",
            "\n",
            "********************** Sentence Bucket Analysis ************************\n",
            "--- bucket type: length, statistic type: BLEU\n",
            "length\tsys1\tsys2\n",
            "<10\t3.9442\t2.9075\n",
            "[10,20)\t10.4731\t7.8848\n",
            "[20,30)\t13.8084\t8.2635\n",
            "[30,40)\t15.7606\t9.1991\n",
            "[40,50)\t17.8088\t9.8597\n",
            "[50,60)\t13.4277\t6.5024\n",
            ">=60\t13.7578\t5.1645\n",
            "\n",
            "********************** Sentence Bucket Analysis ************************\n",
            "--- bucket type: len(output)-len(reference), statistic type: count\n",
            "lengthdiff\tsys1\tsys2\n",
            "<-20\t6\t15\n",
            "[-20,-10)\t62\t82\n",
            "[-10,-5)\t256\t226\n",
            "-5\t100\t97\n",
            "-4\t131\t116\n",
            "-3\t175\t137\n",
            "-2\t179\t157\n",
            "-1\t164\t147\n",
            "0\t118\t125\n",
            "1\t95\t126\n",
            "2\t70\t79\n",
            "3\t42\t62\n",
            "4\t28\t33\n",
            "5\t12\t17\n",
            "[6,11)\t14\t25\n",
            "[11,21)\t0\t6\n",
            ">=21\t3\t5\n",
            "\n",
            "********************** Sentence Bucket Analysis ************************\n",
            "--- bucket type: sentence-level BLEU, statistic type: count\n",
            "sentbleu\tsys1\tsys2\n",
            "<10.0\t397\t610\n",
            "[10.0,20.0)\t628\t574\n",
            "[20.0,30.0)\t276\t180\n",
            "[30.0,40.0)\t97\t64\n",
            "[40.0,50.0)\t37\t19\n",
            "[50.0,60.0)\t16\t6\n",
            "[60.0,70.0)\t2\t2\n",
            "[70.0,80.0)\t1\t0\n",
            "[80.0,90.0)\t1\t0\n",
            ">=90.0\t0\t0\n",
            "\n",
            "********************** N-gram Difference Analysis ************************\n",
            "--- min_ngram_length=1, max_ngram_length=4\n",
            "    report_length=50, alpha=1.0, compare_type=match\n",
            "--- 50 n-grams where sys1>sys2 in match\n",
            "what\t0.9808 (sys1=50, sys2=0)\n",
            "they\t0.9804 (sys1=49, sys2=0)\n",
            "more\t0.9787 (sys1=45, sys2=0)\n",
            "who\t0.9714 (sys1=33, sys2=0)\n",
            "want\t0.9706 (sys1=32, sys2=0)\n",
            "these\t0.9697 (sys1=31, sys2=0)\n",
            "when\t0.9697 (sys1=31, sys2=0)\n",
            "first\t0.9688 (sys1=30, sys2=0)\n",
            "want to\t0.9630 (sys1=25, sys2=0)\n",
            "know\t0.9474 (sys1=17, sys2=0)\n",
            "the first\t0.9444 (sys1=16, sys2=0)\n",
            "better\t0.9412 (sys1=15, sys2=0)\n",
            "there\t0.9412 (sys1=15, sys2=0)\n",
            "poverty\t0.9375 (sys1=14, sys2=0)\n",
            "three\t0.9375 (sys1=14, sys2=0)\n",
            "health\t0.9333 (sys1=13, sys2=0)\n",
            "little\t0.9286 (sys1=12, sys2=0)\n",
            "things\t0.9286 (sys1=12, sys2=0)\n",
            "brain\t0.9231 (sys1=11, sys2=0)\n",
            "every\t0.9231 (sys1=11, sys2=0)\n",
            "economic\t0.9167 (sys1=10, sys2=0)\n",
            "take\t0.9091 (sys1=9, sys2=0)\n",
            "disabilities\t0.9091 (sys1=9, sys2=0)\n",
            "intellectual disabilities\t0.9091 (sys1=9, sys2=0)\n",
            "It was\t0.9091 (sys1=9, sys2=0)\n",
            "a little\t0.9000 (sys1=8, sys2=0)\n",
            "another\t0.9000 (sys1=8, sys2=0)\n",
            "family\t0.9000 (sys1=8, sys2=0)\n",
            "around\t0.9000 (sys1=8, sys2=0)\n",
            "hope\t0.8889 (sys1=7, sys2=0)\n",
            "since\t0.8889 (sys1=7, sys2=0)\n",
            "call\t0.8889 (sys1=7, sys2=0)\n",
            "without\t0.8889 (sys1=7, sys2=0)\n",
            "camel\t0.8889 (sys1=7, sys2=0)\n",
            "remember\t0.8889 (sys1=7, sys2=0)\n",
            "share\t0.8889 (sys1=7, sys2=0)\n",
            "research\t0.8889 (sys1=7, sys2=0)\n",
            "already\t0.8889 (sys1=7, sys2=0)\n",
            "athletes\t0.8889 (sys1=7, sys2=0)\n",
            "climate\t0.8889 (sys1=7, sys2=0)\n",
            "enough\t0.8889 (sys1=7, sys2=0)\n",
            "In\t0.8824 (sys1=14, sys2=1)\n",
            "refugee\t0.8750 (sys1=6, sys2=0)\n",
            "As\t0.8750 (sys1=6, sys2=0)\n",
            "friends\t0.8750 (sys1=6, sys2=0)\n",
            "never\t0.8750 (sys1=6, sys2=0)\n",
            "that they\t0.8750 (sys1=6, sys2=0)\n",
            "to share\t0.8750 (sys1=6, sys2=0)\n",
            "the alarm\t0.8750 (sys1=6, sys2=0)\n",
            "great\t0.8750 (sys1=6, sys2=0)\n",
            "\n",
            "--- 50 n-grams where sys2>sys1 in match\n",
            "don\t0.0312 (sys1=0, sys2=30)\n",
            "They\t0.0333 (sys1=0, sys2=28)\n",
            "We\t0.0333 (sys1=1, sys2=57)\n",
            ":\t0.0370 (sys1=0, sys2=25)\n",
            "There\t0.0556 (sys1=0, sys2=16)\n",
            "You\t0.0556 (sys1=0, sys2=16)\n",
            "We need\t0.1000 (sys1=0, sys2=8)\n",
            "I\t0.1085 (sys1=13, sys2=114)\n",
            "TED\t0.1111 (sys1=0, sys2=7)\n",
            "Europe\t0.1250 (sys1=0, sys2=6)\n",
            "I think\t0.1333 (sys1=1, sys2=12)\n",
            "We need to\t0.1429 (sys1=0, sys2=5)\n",
            "maybe\t0.1429 (sys1=0, sys2=5)\n",
            "How\t0.1429 (sys1=0, sys2=5)\n",
            "Sierra\t0.1429 (sys1=0, sys2=5)\n",
            "Dr.\t0.1429 (sys1=0, sys2=5)\n",
            "didn\t0.1429 (sys1=0, sys2=5)\n",
            "I don\t0.1667 (sys1=0, sys2=4)\n",
            "you don\t0.1667 (sys1=0, sys2=4)\n",
            "America\t0.1667 (sys1=0, sys2=4)\n",
            "The\t0.1786 (sys1=4, sys2=22)\n",
            "What\t0.1875 (sys1=2, sys2=12)\n",
            ": The\t0.2000 (sys1=0, sys2=3)\n",
            "Americans\t0.2000 (sys1=0, sys2=3)\n",
            "United\t0.2000 (sys1=0, sys2=3)\n",
            "I wanted\t0.2000 (sys1=0, sys2=3)\n",
            "the media\t0.2000 (sys1=0, sys2=3)\n",
            ": And\t0.2000 (sys1=0, sys2=3)\n",
            "I can\t0.2000 (sys1=0, sys2=3)\n",
            "I knew\t0.2000 (sys1=0, sys2=3)\n",
            "wasn\t0.2000 (sys1=0, sys2=3)\n",
            "Paul\t0.2000 (sys1=0, sys2=3)\n",
            "They have\t0.2000 (sys1=0, sys2=3)\n",
            "all have\t0.2000 (sys1=0, sys2=3)\n",
            "couldn\t0.2000 (sys1=0, sys2=3)\n",
            "are you\t0.2000 (sys1=0, sys2=3)\n",
            "in Europe\t0.2000 (sys1=0, sys2=3)\n",
            "I went\t0.2000 (sys1=0, sys2=3)\n",
            "Tony\t0.2000 (sys1=0, sys2=3)\n",
            "media\t0.2000 (sys1=0, sys2=3)\n",
            "They can\t0.2000 (sys1=0, sys2=3)\n",
            "Texas\t0.2000 (sys1=0, sys2=3)\n",
            "in an\t0.2000 (sys1=0, sys2=3)\n",
            "the United\t0.2000 (sys1=0, sys2=3)\n",
            "But\t0.2000 (sys1=0, sys2=3)\n",
            "We all\t0.2000 (sys1=0, sys2=3)\n",
            "York\t0.2000 (sys1=0, sys2=3)\n",
            "New\t0.2000 (sys1=0, sys2=3)\n",
            ".\t0.2000 (sys1=0, sys2=3)\n",
            "We all have\t0.2000 (sys1=0, sys2=3)\n",
            "\n",
            "********************** Sentence Examples Analysis ************************\n",
            "--- 10 sentences where sys1>sys2 at sentence-level BLEU\n",
            "sys1-sys2=60.2427, sys1=82.5080, sys2=22.2652\n",
            "Ref:  It can cause a severe fever and can often be fatal .\n",
            "sys1: It can cause a severe fever and can often be fatal.\n",
            "sys2: it can be a STRONG, and it can often be STRONG.\n",
            "\n",
            "sys1-sys2=50.6106, sys1=55.2052, sys2=4.5946\n",
            "Ref:  Eleven months -- the average age of an apple in a grocery store in the United States .\n",
            "sys1: In a month. It's the average age of an apple in a grocery store to the police department.\n",
            "sys2: Month. It & apos; s a Middle-in-the-United States.\n",
            "\n",
            "sys1-sys2=45.8643, sys1=57.2236, sys2=11.3594\n",
            "Ref:  In practice , our immigration policies block the path to safety .\n",
            "sys1: In practice, our immigration policies block the path to security.\n",
            "sys2: in practice, our political Policy is going to be the way to Safety.\n",
            "\n",
            "sys1-sys2=40.2776, sys1=54.0280, sys2=13.7504\n",
            "Ref:  But more importantly , it was the first time that this kid ever thought he could be a farmer -- or that he would want to be a farmer .\n",
            "sys1: More importantly, it was the first time that this kid thought he could be a farmer -- or it could want to be a farmer.\n",
            "sys2: More importantly, it was the First time that this Kid thought this Kid thought this Kid thought it could be a First time.\n",
            "\n",
            "sys1-sys2=37.5966, sys1=37.5966, sys2=0\n",
            "Ref:  And to the Monkey , humans are just another animal species .\n",
            "sys1: In order to be in the department, humans are just another animal species.\n",
            "sys2: The First thing, Humans don & apos; t have a different species.\n",
            "\n",
            "sys1-sys2=35.9304, sys1=35.9304, sys2=0\n",
            "Ref:  Who said it ?\n",
            "sys1: Now, who said that?\n",
            "sys2: Said that?\n",
            "\n",
            "sys1-sys2=35.9304, sys1=35.9304, sys2=0\n",
            "Ref:  Everything is different .\n",
            "sys1: It's a different thing.\n",
            "sys2: it & apos; s different.\n",
            "\n",
            "sys1-sys2=35.8665, sys1=53.0542, sys2=17.1877\n",
            "Ref:  And the second is that we might just be able to take the ghastly holy war of ideology that we &apos;re suffering under in this country and turn it into a competition of ideas based on solidarity and mutual respect .\n",
            "sys1: In the second thing is that we could be able to take the terrible ideological war that we suffer in this country and turn it into a competition of ideas based on solidarity and mutual respect.\n",
            "sys2: The second thing is that we Might be able to Take a First-Winning war that we & apos; re Doing in this country and Turn it into a competent-based competition and respect.\n",
            "\n",
            "sys1-sys2=34.0786, sys1=46.7174, sys2=12.6387\n",
            "Ref:  I &apos;d urge you all to wake up and urge our politicians to wake up to this challenge .\n",
            "sys1: In order to wake up and i press our politicians to wake up to this challenge.\n",
            "sys2: You & apos; re Press for you, and i Press our politicians to get into the challenge.\n",
            "\n",
            "sys1-sys2=33.9311, sys1=58.7395, sys2=24.8084\n",
            "Ref:  You have to listen to one another .\n",
            "sys1: Now, i have to listen to one another.\n",
            "sys2: You & apos; ve got to listen to you Another.\n",
            "\n",
            "--- 10 sentences where sys2>sys1 at sentence-level BLEU\n",
            "sys1-sys2=-27.8951, sys1=8.8529, sys2=36.7480\n",
            "Ref:  Now , what are you going to do ? How are you going to express that ?\n",
            "sys1: Now, will it be to be able to do it?\n",
            "sys2: are you going to do? How are you going to express?\n",
            "\n",
            "sys1-sys2=-28.3702, sys1=41.3999, sys2=69.7701\n",
            "Ref:  The results of this kind of work are simple and they &apos;re powerful .\n",
            "sys1: As a result of that kind of work are simple and very useful.\n",
            "sys2: The results of this kind of work are simple and very useful.\n",
            "\n",
            "sys1-sys2=-28.6811, sys1=0, sys2=28.6811\n",
            "Ref:  NR : The earliest ones .\n",
            "sys1: Now, in the words, it's got older.\n",
            "sys2: : The oldest ones.\n",
            "\n",
            "sys1-sys2=-28.6811, sys1=0, sys2=28.6811\n",
            "Ref:  What can you do ? &quot;\n",
            "sys1: Now, what is it that we do? \"\n",
            "sys2: can you do? \"\n",
            "\n",
            "sys1-sys2=-32.3730, sys1=0, sys2=32.3730\n",
            "Ref:  Farming is hard .\n",
            "sys1: It's hard.\n",
            "sys2: agriculture is hard.\n",
            "\n",
            "sys1-sys2=-32.5880, sys1=0, sys2=32.5880\n",
            "Ref:  You know .\n",
            "sys1: That's what it's like to do.\n",
            "sys2: You Know.\n",
            "\n",
            "sys1-sys2=-34.1337, sys1=8.0214, sys2=42.1550\n",
            "Ref:  And I don &apos;t expect it to be much different in Europe or anywhere else in the world .\n",
            "sys1: Now, i don't think it's very different in the world.\n",
            "sys2: I don & apos; t think it & apos; s very different in Europe or anywhere else in the world.\n",
            "\n",
            "sys1-sys2=-35.9304, sys1=0, sys2=35.9304\n",
            "Ref:  What if ...\n",
            "sys1: Now, as a result, it's going to be.\n",
            "sys2: What would happen if...\n",
            "\n",
            "sys1-sys2=-39.9221, sys1=14.4967, sys2=54.4188\n",
            "Ref:  So how are we going to do it ? How are we going to do it together ?\n",
            "sys1: Now, is it going to be a pipe to do it together?\n",
            "sys2: are we going to do it? How are we going to do it together?\n",
            "\n",
            "sys1-sys2=-45.1801, sys1=0, sys2=45.1801\n",
            "Ref:  What if ?\n",
            "sys1: Now, what would it be like to do?\n",
            "sys2: What would happen?\n",
            "\n"
          ],
          "name": "stdout"
        }
      ]
    },
    {
      "cell_type": "code",
      "metadata": {
        "id": "GDRnbqcCvRGy"
      },
      "source": [
        "!zip -r output/iwslt_output.zip output_iwslt/\n"
      ],
      "execution_count": null,
      "outputs": []
    },
    {
      "cell_type": "code",
      "metadata": {
        "colab": {
          "base_uri": "https://localhost:8080/",
          "height": 17
        },
        "id": "mdrYCNYAvYSq",
        "outputId": "956230f5-686f-4827-fb36-ddd867b0f49c"
      },
      "source": [
        "from google.colab import files\n",
        "files.download('output/iwslt_output.zip')"
      ],
      "execution_count": null,
      "outputs": [
        {
          "output_type": "display_data",
          "data": {
            "application/javascript": [
              "\n",
              "    async function download(id, filename, size) {\n",
              "      if (!google.colab.kernel.accessAllowed) {\n",
              "        return;\n",
              "      }\n",
              "      const div = document.createElement('div');\n",
              "      const label = document.createElement('label');\n",
              "      label.textContent = `Downloading \"${filename}\": `;\n",
              "      div.appendChild(label);\n",
              "      const progress = document.createElement('progress');\n",
              "      progress.max = size;\n",
              "      div.appendChild(progress);\n",
              "      document.body.appendChild(div);\n",
              "\n",
              "      const buffers = [];\n",
              "      let downloaded = 0;\n",
              "\n",
              "      const channel = await google.colab.kernel.comms.open(id);\n",
              "      // Send a message to notify the kernel that we're ready.\n",
              "      channel.send({})\n",
              "\n",
              "      for await (const message of channel.messages) {\n",
              "        // Send a message to notify the kernel that we're ready.\n",
              "        channel.send({})\n",
              "        if (message.buffers) {\n",
              "          for (const buffer of message.buffers) {\n",
              "            buffers.push(buffer);\n",
              "            downloaded += buffer.byteLength;\n",
              "            progress.value = downloaded;\n",
              "          }\n",
              "        }\n",
              "      }\n",
              "      const blob = new Blob(buffers, {type: 'application/binary'});\n",
              "      const a = document.createElement('a');\n",
              "      a.href = window.URL.createObjectURL(blob);\n",
              "      a.download = filename;\n",
              "      div.appendChild(a);\n",
              "      a.click();\n",
              "      div.remove();\n",
              "    }\n",
              "  "
            ],
            "text/plain": [
              "<IPython.core.display.Javascript object>"
            ]
          },
          "metadata": {
            "tags": []
          }
        },
        {
          "output_type": "display_data",
          "data": {
            "application/javascript": [
              "download(\"download_16946cb6-522d-4666-babb-4fbc623a51d5\", \"iwslt_output.zip\", 165866)"
            ],
            "text/plain": [
              "<IPython.core.display.Javascript object>"
            ]
          },
          "metadata": {
            "tags": []
          }
        }
      ]
    }
  ]
}