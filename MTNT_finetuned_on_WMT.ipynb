{
  "nbformat": 4,
  "nbformat_minor": 0,
  "metadata": {
    "accelerator": "GPU",
    "colab": {
      "provenance": [],
      "machine_shape": "hm",
      "authorship_tag": "ABX9TyPZ9ZBrIv9Zu0PQ2FHki6wJ",
      "include_colab_link": true
    },
    "kernelspec": {
      "display_name": "Python 3",
      "name": "python3"
    }
  },
  "cells": [
    {
      "cell_type": "markdown",
      "metadata": {
        "id": "view-in-github",
        "colab_type": "text"
      },
      "source": [
        "<a href=\"https://colab.research.google.com/github/sejalvyas13/Basic-CYK-Parser/blob/master/MTNT_finetuned_on_WMT.ipynb\" target=\"_parent\"><img src=\"https://colab.research.google.com/assets/colab-badge.svg\" alt=\"Open In Colab\"/></a>"
      ]
    },
    {
      "cell_type": "markdown",
      "metadata": {
        "id": "77k7-nRns59w"
      },
      "source": [
        "Fine tuning MTNT based on trained results of IWSLT. Thus training for MTNT starts from epoch 19 or something"
      ]
    },
    {
      "cell_type": "code",
      "metadata": {
        "colab": {
          "base_uri": "https://localhost:8080/"
        },
        "id": "aUVRgGMMYY46",
        "outputId": "8d1c8848-fee7-4144-f804-555b0d2db7e2"
      },
      "source": [
        "!git clone https://github.com/abdulrafae/nmt_tutorial.git"
      ],
      "execution_count": null,
      "outputs": [
        {
          "output_type": "stream",
          "text": [
            "fatal: destination path 'nmt_tutorial' already exists and is not an empty directory.\n"
          ],
          "name": "stdout"
        }
      ]
    },
    {
      "cell_type": "code",
      "metadata": {
        "colab": {
          "base_uri": "https://localhost:8080/"
        },
        "id": "ftEOlruzYin5",
        "outputId": "21366740-d8e9-4770-a516-ff9c5c4fe302"
      },
      "source": [
        "cd nmt_tutorial/"
      ],
      "execution_count": null,
      "outputs": [
        {
          "output_type": "stream",
          "text": [
            "/content/nmt_tutorial\n"
          ],
          "name": "stdout"
        }
      ]
    },
    {
      "cell_type": "code",
      "metadata": {
        "id": "OwKgs68kYmeq",
        "colab": {
          "base_uri": "https://localhost:8080/"
        },
        "outputId": "cec531a8-41a0-4e4f-e304-4d13298a08d5"
      },
      "source": [
        "!pip install fairseq\n"
      ],
      "execution_count": null,
      "outputs": [
        {
          "output_type": "stream",
          "text": [
            "Collecting fairseq\n",
            "\u001b[?25l  Downloading https://files.pythonhosted.org/packages/15/ab/92c6efb05ffdfe16fbdc9e463229d9af8c3b74dc943ed4b4857a87b223c2/fairseq-0.10.2-cp37-cp37m-manylinux1_x86_64.whl (1.7MB)\n",
            "\u001b[K     |████████████████████████████████| 1.7MB 10.5MB/s \n",
            "\u001b[?25hRequirement already satisfied: cffi in /usr/local/lib/python3.7/dist-packages (from fairseq) (1.14.5)\n",
            "Requirement already satisfied: cython in /usr/local/lib/python3.7/dist-packages (from fairseq) (0.29.22)\n",
            "Collecting sacrebleu>=1.4.12\n",
            "\u001b[?25l  Downloading https://files.pythonhosted.org/packages/7e/57/0c7ca4e31a126189dab99c19951910bd081dea5bbd25f24b77107750eae7/sacrebleu-1.5.1-py3-none-any.whl (54kB)\n",
            "\u001b[K     |████████████████████████████████| 61kB 8.7MB/s \n",
            "\u001b[?25hCollecting dataclasses\n",
            "  Downloading https://files.pythonhosted.org/packages/26/2f/1095cdc2868052dd1e64520f7c0d5c8c550ad297e944e641dbf1ffbb9a5d/dataclasses-0.6-py3-none-any.whl\n",
            "Requirement already satisfied: torch in /usr/local/lib/python3.7/dist-packages (from fairseq) (1.8.1+cu101)\n",
            "Collecting hydra-core\n",
            "\u001b[?25l  Downloading https://files.pythonhosted.org/packages/52/e3/fbd70dd0d3ce4d1d75c22d56c0c9f895cfa7ed6587a9ffb821d6812d6a60/hydra_core-1.0.6-py3-none-any.whl (123kB)\n",
            "\u001b[K     |████████████████████████████████| 133kB 57.0MB/s \n",
            "\u001b[?25hRequirement already satisfied: regex in /usr/local/lib/python3.7/dist-packages (from fairseq) (2019.12.20)\n",
            "Requirement already satisfied: tqdm in /usr/local/lib/python3.7/dist-packages (from fairseq) (4.41.1)\n",
            "Requirement already satisfied: numpy in /usr/local/lib/python3.7/dist-packages (from fairseq) (1.19.5)\n",
            "Requirement already satisfied: pycparser in /usr/local/lib/python3.7/dist-packages (from cffi->fairseq) (2.20)\n",
            "Collecting portalocker==2.0.0\n",
            "  Downloading https://files.pythonhosted.org/packages/89/a6/3814b7107e0788040870e8825eebf214d72166adf656ba7d4bf14759a06a/portalocker-2.0.0-py2.py3-none-any.whl\n",
            "Requirement already satisfied: typing-extensions in /usr/local/lib/python3.7/dist-packages (from torch->fairseq) (3.7.4.3)\n",
            "Collecting antlr4-python3-runtime==4.8\n",
            "\u001b[?25l  Downloading https://files.pythonhosted.org/packages/56/02/789a0bddf9c9b31b14c3e79ec22b9656185a803dc31c15f006f9855ece0d/antlr4-python3-runtime-4.8.tar.gz (112kB)\n",
            "\u001b[K     |████████████████████████████████| 112kB 49.7MB/s \n",
            "\u001b[?25hRequirement already satisfied: importlib-resources; python_version < \"3.9\" in /usr/local/lib/python3.7/dist-packages (from hydra-core->fairseq) (5.1.2)\n",
            "Collecting omegaconf<2.1,>=2.0.5\n",
            "  Downloading https://files.pythonhosted.org/packages/d0/eb/9d63ce09dd8aa85767c65668d5414958ea29648a0eec80a4a7d311ec2684/omegaconf-2.0.6-py3-none-any.whl\n",
            "Requirement already satisfied: zipp>=0.4; python_version < \"3.8\" in /usr/local/lib/python3.7/dist-packages (from importlib-resources; python_version < \"3.9\"->hydra-core->fairseq) (3.4.1)\n",
            "Collecting PyYAML>=5.1.*\n",
            "\u001b[?25l  Downloading https://files.pythonhosted.org/packages/7a/a5/393c087efdc78091afa2af9f1378762f9821c9c1d7a22c5753fb5ac5f97a/PyYAML-5.4.1-cp37-cp37m-manylinux1_x86_64.whl (636kB)\n",
            "\u001b[K     |████████████████████████████████| 645kB 22.2MB/s \n",
            "\u001b[?25hBuilding wheels for collected packages: antlr4-python3-runtime\n",
            "  Building wheel for antlr4-python3-runtime (setup.py) ... \u001b[?25l\u001b[?25hdone\n",
            "  Created wheel for antlr4-python3-runtime: filename=antlr4_python3_runtime-4.8-cp37-none-any.whl size=141231 sha256=27c83c137474c9560d7cf0d2152b7b78220e49a136718e759eaf8da5f31ca286\n",
            "  Stored in directory: /root/.cache/pip/wheels/e3/e2/fa/b78480b448b8579ddf393bebd3f47ee23aa84c89b6a78285c8\n",
            "Successfully built antlr4-python3-runtime\n",
            "Installing collected packages: portalocker, sacrebleu, dataclasses, antlr4-python3-runtime, PyYAML, omegaconf, hydra-core, fairseq\n",
            "  Found existing installation: PyYAML 3.13\n",
            "    Uninstalling PyYAML-3.13:\n",
            "      Successfully uninstalled PyYAML-3.13\n",
            "Successfully installed PyYAML-5.4.1 antlr4-python3-runtime-4.8 dataclasses-0.6 fairseq-0.10.2 hydra-core-1.0.6 omegaconf-2.0.6 portalocker-2.0.0 sacrebleu-1.5.1\n"
          ],
          "name": "stdout"
        }
      ]
    },
    {
      "cell_type": "code",
      "metadata": {
        "colab": {
          "base_uri": "https://localhost:8080/"
        },
        "id": "pjaNpL0oYpYE",
        "outputId": "f5b26e41-77e7-4666-8ccb-465e87dc26de"
      },
      "source": [
        "!git clone https://github.com/moses-smt/mosesdecoder.git\n"
      ],
      "execution_count": null,
      "outputs": [
        {
          "output_type": "stream",
          "text": [
            "Cloning into 'mosesdecoder'...\n",
            "remote: Enumerating objects: 498, done.\u001b[K\n",
            "remote: Counting objects: 100% (498/498), done.\u001b[K\n",
            "remote: Compressing objects: 100% (206/206), done.\u001b[K\n",
            "remote: Total 148070 (delta 315), reused 433 (delta 289), pack-reused 147572\u001b[K\n",
            "Receiving objects: 100% (148070/148070), 129.86 MiB | 23.07 MiB/s, done.\n",
            "Resolving deltas: 100% (114341/114341), done.\n"
          ],
          "name": "stdout"
        }
      ]
    },
    {
      "cell_type": "code",
      "metadata": {
        "colab": {
          "base_uri": "https://localhost:8080/"
        },
        "id": "ZmCNSiXHYr0W",
        "outputId": "13256751-1f98-4c6e-b139-9225417e82c8"
      },
      "source": [
        "!git clone https://github.com/rsennrich/subword-nmt.git\n"
      ],
      "execution_count": null,
      "outputs": [
        {
          "output_type": "stream",
          "text": [
            "Cloning into 'subword-nmt'...\n",
            "remote: Enumerating objects: 4, done.\u001b[K\n",
            "remote: Counting objects: 100% (4/4), done.\u001b[K\n",
            "remote: Compressing objects: 100% (4/4), done.\u001b[K\n",
            "remote: Total 580 (delta 0), reused 0 (delta 0), pack-reused 576\u001b[K\n",
            "Receiving objects: 100% (580/580), 237.41 KiB | 8.79 MiB/s, done.\n",
            "Resolving deltas: 100% (349/349), done.\n"
          ],
          "name": "stdout"
        }
      ]
    },
    {
      "cell_type": "code",
      "metadata": {
        "colab": {
          "base_uri": "https://localhost:8080/"
        },
        "id": "5phIUJrDYumd",
        "outputId": "38a1a7c6-e48c-4ea9-b3c1-49008d02dca4"
      },
      "source": [
        "!git clone https://github.com/pytorch/fairseq"
      ],
      "execution_count": null,
      "outputs": [
        {
          "output_type": "stream",
          "text": [
            "Cloning into 'fairseq'...\n",
            "remote: Enumerating objects: 222, done.\u001b[K\n",
            "remote: Counting objects: 100% (222/222), done.\u001b[K\n",
            "remote: Compressing objects: 100% (122/122), done.\u001b[K\n",
            "remote: Total 22034 (delta 105), reused 192 (delta 96), pack-reused 21812\u001b[K\n",
            "Receiving objects: 100% (22034/22034), 10.30 MiB | 20.72 MiB/s, done.\n",
            "Resolving deltas: 100% (16391/16391), done.\n"
          ],
          "name": "stdout"
        }
      ]
    },
    {
      "cell_type": "code",
      "metadata": {
        "colab": {
          "base_uri": "https://localhost:8080/"
        },
        "id": "wCFspJjlYxD2",
        "outputId": "b231b425-ce11-44c1-e976-9f666273c873"
      },
      "source": [
        "cd fairseq\n"
      ],
      "execution_count": null,
      "outputs": [
        {
          "output_type": "stream",
          "text": [
            "/content/fairseq\n"
          ],
          "name": "stdout"
        }
      ]
    },
    {
      "cell_type": "code",
      "metadata": {
        "colab": {
          "base_uri": "https://localhost:8080/"
        },
        "id": "xyXViOZbqe8F",
        "outputId": "9d4645d6-9b77-4f8d-c38b-a89d54c210da"
      },
      "source": [
        "!pip install -r requirements.txt\n",
        "!python setup.py build develop"
      ],
      "execution_count": null,
      "outputs": [
        {
          "output_type": "stream",
          "text": [
            "\u001b[31mERROR: Could not open requirements file: [Errno 2] No such file or directory: 'requirements.txt'\u001b[0m\n",
            "running build\n",
            "running build_py\n",
            "copying fairseq/version.py -> build/lib.linux-x86_64-3.7/fairseq\n",
            "running build_ext\n",
            "/usr/local/lib/python3.7/dist-packages/torch/utils/cpp_extension.py:369: UserWarning: Attempted to use ninja as the BuildExtension backend but we could not find ninja.. Falling back to using the slow distutils backend.\n",
            "  warnings.warn(msg.format('we could not find ninja.'))\n",
            "skipping 'fairseq/data/data_utils_fast.cpp' Cython extension (up-to-date)\n",
            "skipping 'fairseq/data/token_block_utils_fast.cpp' Cython extension (up-to-date)\n",
            "running develop\n",
            "running egg_info\n",
            "writing fairseq.egg-info/PKG-INFO\n",
            "writing dependency_links to fairseq.egg-info/dependency_links.txt\n",
            "writing entry points to fairseq.egg-info/entry_points.txt\n",
            "writing requirements to fairseq.egg-info/requires.txt\n",
            "writing top-level names to fairseq.egg-info/top_level.txt\n",
            "writing manifest file 'fairseq.egg-info/SOURCES.txt'\n",
            "running build_ext\n",
            "copying build/lib.linux-x86_64-3.7/fairseq/libbleu.cpython-37m-x86_64-linux-gnu.so -> fairseq\n",
            "copying build/lib.linux-x86_64-3.7/fairseq/data/data_utils_fast.cpython-37m-x86_64-linux-gnu.so -> fairseq/data\n",
            "copying build/lib.linux-x86_64-3.7/fairseq/data/token_block_utils_fast.cpython-37m-x86_64-linux-gnu.so -> fairseq/data\n",
            "copying build/lib.linux-x86_64-3.7/fairseq/libbase.cpython-37m-x86_64-linux-gnu.so -> fairseq\n",
            "copying build/lib.linux-x86_64-3.7/fairseq/libnat.cpython-37m-x86_64-linux-gnu.so -> fairseq\n",
            "Creating /usr/local/lib/python3.7/dist-packages/fairseq.egg-link (link to .)\n",
            "Adding fairseq 1.0.0a0+14807a3 to easy-install.pth file\n",
            "Installing fairseq-eval-lm script to /usr/local/bin\n",
            "Installing fairseq-generate script to /usr/local/bin\n",
            "Installing fairseq-hydra-train script to /usr/local/bin\n",
            "Installing fairseq-interactive script to /usr/local/bin\n",
            "Installing fairseq-preprocess script to /usr/local/bin\n",
            "Installing fairseq-score script to /usr/local/bin\n",
            "Installing fairseq-train script to /usr/local/bin\n",
            "Installing fairseq-validate script to /usr/local/bin\n",
            "\n",
            "Installed /content/nmt_tutorial/fairseq\n",
            "Processing dependencies for fairseq==1.0.0a0+14807a3\n",
            "Searching for numpy==1.19.5\n",
            "Best match: numpy 1.19.5\n",
            "Adding numpy 1.19.5 to easy-install.pth file\n",
            "Installing f2py script to /usr/local/bin\n",
            "Installing f2py3 script to /usr/local/bin\n",
            "Installing f2py3.7 script to /usr/local/bin\n",
            "\n",
            "Using /usr/local/lib/python3.7/dist-packages\n",
            "Searching for tqdm==4.41.1\n",
            "Best match: tqdm 4.41.1\n",
            "Adding tqdm 4.41.1 to easy-install.pth file\n",
            "Installing tqdm script to /usr/local/bin\n",
            "\n",
            "Using /usr/local/lib/python3.7/dist-packages\n",
            "Searching for torch==1.8.1+cu101\n",
            "Best match: torch 1.8.1+cu101\n",
            "Adding torch 1.8.1+cu101 to easy-install.pth file\n",
            "Installing convert-caffe2-to-onnx script to /usr/local/bin\n",
            "Installing convert-onnx-to-caffe2 script to /usr/local/bin\n",
            "\n",
            "Using /usr/local/lib/python3.7/dist-packages\n",
            "Searching for sacrebleu==1.5.1\n",
            "Best match: sacrebleu 1.5.1\n",
            "Adding sacrebleu 1.5.1 to easy-install.pth file\n",
            "Installing sacrebleu script to /usr/local/bin\n",
            "\n",
            "Using /usr/local/lib/python3.7/dist-packages\n",
            "Searching for regex==2019.12.20\n",
            "Best match: regex 2019.12.20\n",
            "Adding regex 2019.12.20 to easy-install.pth file\n",
            "\n",
            "Using /usr/local/lib/python3.7/dist-packages\n",
            "Searching for omegaconf==2.0.6\n",
            "Best match: omegaconf 2.0.6\n",
            "Adding omegaconf 2.0.6 to easy-install.pth file\n",
            "\n",
            "Using /usr/local/lib/python3.7/dist-packages\n",
            "Searching for hydra-core==1.0.6\n",
            "Best match: hydra-core 1.0.6\n",
            "Adding hydra-core 1.0.6 to easy-install.pth file\n",
            "\n",
            "Using /usr/local/lib/python3.7/dist-packages\n",
            "Searching for Cython==0.29.22\n",
            "Best match: Cython 0.29.22\n",
            "Adding Cython 0.29.22 to easy-install.pth file\n",
            "Installing cygdb script to /usr/local/bin\n",
            "Installing cython script to /usr/local/bin\n",
            "Installing cythonize script to /usr/local/bin\n",
            "\n",
            "Using /usr/local/lib/python3.7/dist-packages\n",
            "Searching for cffi==1.14.5\n",
            "Best match: cffi 1.14.5\n",
            "Adding cffi 1.14.5 to easy-install.pth file\n",
            "\n",
            "Using /usr/local/lib/python3.7/dist-packages\n",
            "Searching for typing-extensions==3.7.4.3\n",
            "Best match: typing-extensions 3.7.4.3\n",
            "Adding typing-extensions 3.7.4.3 to easy-install.pth file\n",
            "\n",
            "Using /usr/local/lib/python3.7/dist-packages\n",
            "Searching for portalocker==2.0.0\n",
            "Best match: portalocker 2.0.0\n",
            "Adding portalocker 2.0.0 to easy-install.pth file\n",
            "\n",
            "Using /usr/local/lib/python3.7/dist-packages\n",
            "Searching for PyYAML==5.4.1\n",
            "Best match: PyYAML 5.4.1\n",
            "Adding PyYAML 5.4.1 to easy-install.pth file\n",
            "\n",
            "Using /usr/local/lib/python3.7/dist-packages\n",
            "Searching for antlr4-python3-runtime==4.8\n",
            "Best match: antlr4-python3-runtime 4.8\n",
            "Adding antlr4-python3-runtime 4.8 to easy-install.pth file\n",
            "\n",
            "Using /usr/local/lib/python3.7/dist-packages\n",
            "Searching for importlib-resources==5.1.2\n",
            "Best match: importlib-resources 5.1.2\n",
            "Adding importlib-resources 5.1.2 to easy-install.pth file\n",
            "\n",
            "Using /usr/local/lib/python3.7/dist-packages\n",
            "Searching for pycparser==2.20\n",
            "Best match: pycparser 2.20\n",
            "Adding pycparser 2.20 to easy-install.pth file\n",
            "\n",
            "Using /usr/local/lib/python3.7/dist-packages\n",
            "Searching for zipp==3.4.1\n",
            "Best match: zipp 3.4.1\n",
            "Adding zipp 3.4.1 to easy-install.pth file\n",
            "\n",
            "Using /usr/local/lib/python3.7/dist-packages\n",
            "Finished processing dependencies for fairseq==1.0.0a0+14807a3\n"
          ],
          "name": "stdout"
        }
      ]
    },
    {
      "cell_type": "code",
      "metadata": {
        "id": "eOfwPUACY0xU",
        "colab": {
          "base_uri": "https://localhost:8080/"
        },
        "outputId": "2434cc50-4c76-4f65-f636-e818a76226f1"
      },
      "source": [
        "!pip install --editable ./"
      ],
      "execution_count": null,
      "outputs": [
        {
          "output_type": "stream",
          "text": [
            "Obtaining file:///content/nmt_tutorial/fairseq\n",
            "  Installing build dependencies ... \u001b[?25l\u001b[?25hdone\n",
            "  Getting requirements to build wheel ... \u001b[?25l\u001b[?25hdone\n",
            "  Installing backend dependencies ... \u001b[?25l\u001b[?25hdone\n",
            "    Preparing wheel metadata ... \u001b[?25l\u001b[?25hdone\n",
            "Requirement already satisfied: tqdm in /usr/local/lib/python3.7/dist-packages (from fairseq==1.0.0a0+14807a3) (4.41.1)\n",
            "Requirement already satisfied: regex in /usr/local/lib/python3.7/dist-packages (from fairseq==1.0.0a0+14807a3) (2019.12.20)\n",
            "Requirement already satisfied: torch in /usr/local/lib/python3.7/dist-packages (from fairseq==1.0.0a0+14807a3) (1.8.1+cu101)\n",
            "Requirement already satisfied: numpy; python_version >= \"3.7\" in /usr/local/lib/python3.7/dist-packages (from fairseq==1.0.0a0+14807a3) (1.19.5)\n",
            "Requirement already satisfied: cffi in /usr/local/lib/python3.7/dist-packages (from fairseq==1.0.0a0+14807a3) (1.14.5)\n",
            "Requirement already satisfied: cython in /usr/local/lib/python3.7/dist-packages (from fairseq==1.0.0a0+14807a3) (0.29.22)\n",
            "Requirement already satisfied: sacrebleu>=1.4.12 in /usr/local/lib/python3.7/dist-packages (from fairseq==1.0.0a0+14807a3) (1.5.1)\n",
            "Requirement already satisfied: omegaconf<2.1 in /usr/local/lib/python3.7/dist-packages (from fairseq==1.0.0a0+14807a3) (2.0.6)\n",
            "Requirement already satisfied: hydra-core<1.1 in /usr/local/lib/python3.7/dist-packages (from fairseq==1.0.0a0+14807a3) (1.0.6)\n",
            "Requirement already satisfied: typing-extensions in /usr/local/lib/python3.7/dist-packages (from torch->fairseq==1.0.0a0+14807a3) (3.7.4.3)\n",
            "Requirement already satisfied: pycparser in /usr/local/lib/python3.7/dist-packages (from cffi->fairseq==1.0.0a0+14807a3) (2.20)\n",
            "Requirement already satisfied: portalocker==2.0.0 in /usr/local/lib/python3.7/dist-packages (from sacrebleu>=1.4.12->fairseq==1.0.0a0+14807a3) (2.0.0)\n",
            "Requirement already satisfied: PyYAML>=5.1.* in /usr/local/lib/python3.7/dist-packages (from omegaconf<2.1->fairseq==1.0.0a0+14807a3) (5.4.1)\n",
            "Requirement already satisfied: importlib-resources; python_version < \"3.9\" in /usr/local/lib/python3.7/dist-packages (from hydra-core<1.1->fairseq==1.0.0a0+14807a3) (5.1.2)\n",
            "Requirement already satisfied: antlr4-python3-runtime==4.8 in /usr/local/lib/python3.7/dist-packages (from hydra-core<1.1->fairseq==1.0.0a0+14807a3) (4.8)\n",
            "Requirement already satisfied: zipp>=0.4; python_version < \"3.8\" in /usr/local/lib/python3.7/dist-packages (from importlib-resources; python_version < \"3.9\"->hydra-core<1.1->fairseq==1.0.0a0+14807a3) (3.4.1)\n",
            "Installing collected packages: fairseq\n",
            "  Found existing installation: fairseq 1.0.0a0+14807a3\n",
            "    Can't uninstall 'fairseq'. No files were found to uninstall.\n",
            "  Running setup.py develop for fairseq\n",
            "Successfully installed fairseq\n"
          ],
          "name": "stdout"
        }
      ]
    },
    {
      "cell_type": "code",
      "metadata": {
        "colab": {
          "base_uri": "https://localhost:8080/"
        },
        "id": "9VOwUQ0NY8XW",
        "outputId": "b025bd87-e1e0-416a-d4ca-e3cec2be8433"
      },
      "source": [
        "cd .."
      ],
      "execution_count": null,
      "outputs": [
        {
          "output_type": "stream",
          "text": [
            "/content/nmt_tutorial\n"
          ],
          "name": "stdout"
        }
      ]
    },
    {
      "cell_type": "code",
      "metadata": {
        "colab": {
          "base_uri": "https://localhost:8080/"
        },
        "id": "U14AnzW-ZYQw",
        "outputId": "9c4b2b18-8e30-4ab5-9dc9-a07875dad5a5"
      },
      "source": [
        "!bash prepare_data.sh\n"
      ],
      "execution_count": null,
      "outputs": [
        {
          "output_type": "stream",
          "text": [
            "Cloning Moses github repository (for tokenization scripts)...\n",
            "fatal: destination path 'mosesdecoder' already exists and is not an empty directory.\n",
            "Cloning Subword NMT repository (for BPE pre-processing)...\n",
            "fatal: destination path 'subword-nmt' already exists and is not an empty directory.\n",
            "Downloading data from https://wit3.fbk.eu/archive/2017-01-trnted/texts/fr/en/fr-en.tgz...\n",
            "--2021-04-02 04:42:02--  https://wit3.fbk.eu/archive/2017-01-trnted/texts/fr/en/fr-en.tgz\n",
            "Resolving wit3.fbk.eu (wit3.fbk.eu)... 108.177.125.121, 2404:6800:4008:c01::79\n",
            "Connecting to wit3.fbk.eu (wit3.fbk.eu)|108.177.125.121|:443... connected.\n",
            "HTTP request sent, awaiting response... 404 Not Found\n",
            "2021-04-02 04:42:02 ERROR 404: Not Found.\n",
            "\n",
            "Data not successfully downloaded.\n"
          ],
          "name": "stdout"
        }
      ]
    },
    {
      "cell_type": "code",
      "metadata": {
        "colab": {
          "base_uri": "https://localhost:8080/"
        },
        "id": "Bn43EjVeqDAQ",
        "outputId": "fcd8f9f0-92d4-4ce2-ffe7-e6a65497be8e"
      },
      "source": [
        "cd /content\n"
      ],
      "execution_count": null,
      "outputs": [
        {
          "output_type": "stream",
          "text": [
            "/content\n"
          ],
          "name": "stdout"
        }
      ]
    },
    {
      "cell_type": "code",
      "metadata": {
        "colab": {
          "base_uri": "https://localhost:8080/"
        },
        "id": "0mgkp-yYp9_j",
        "outputId": "1890be4d-5b1b-48f9-f7e3-b351d02a95ad"
      },
      "source": [
        "!echo $PYTHONPATH\n",
        "\n",
        "import os\n",
        "\n",
        "os.environ['PYTHONPATH'] += \":/content/nmt_tutorial/fairseq/\" #path to your fairseq\n",
        "\n",
        "!echo $PYTHONPATH"
      ],
      "execution_count": null,
      "outputs": [
        {
          "output_type": "stream",
          "text": [
            "/env/python:/content/nmt_tutorial/fairseq/\n",
            "/env/python:/content/nmt_tutorial/fairseq/:/content/nmt_tutorial/fairseq/\n"
          ],
          "name": "stdout"
        }
      ]
    },
    {
      "cell_type": "code",
      "metadata": {
        "colab": {
          "base_uri": "https://localhost:8080/"
        },
        "id": "v_38k8JVqIa3",
        "outputId": "5227c27b-5d33-4bc4-95f5-43707c561dd4"
      },
      "source": [
        "cd nmt_tutorial/"
      ],
      "execution_count": null,
      "outputs": [
        {
          "output_type": "stream",
          "text": [
            "/content/nmt_tutorial\n"
          ],
          "name": "stdout"
        }
      ]
    },
    {
      "cell_type": "code",
      "metadata": {
        "id": "BJPUnbExtjog"
      },
      "source": [
        "!rm -rf data-bin/"
      ],
      "execution_count": null,
      "outputs": []
    },
    {
      "cell_type": "code",
      "metadata": {
        "colab": {
          "base_uri": "https://localhost:8080/"
        },
        "id": "P--EFLrSi0Jg",
        "outputId": "d2ee783e-31be-40e8-dff7-b164ecf35206"
      },
      "source": [
        "!bash train_fconv.sh\n"
      ],
      "execution_count": null,
      "outputs": [
        {
          "output_type": "stream",
          "text": [
            "2021-04-02 04:44:46 | INFO | fairseq_cli.preprocess | Namespace(align_suffix=None, alignfile=None, all_gather_list_size=16384, azureml_logging=False, bf16=False, bpe=None, cpu=False, criterion='cross_entropy', dataset_impl='mmap', destdir='data-bin/iwslt17_fr_en', empty_cache_freq=0, fp16=False, fp16_init_scale=128, fp16_no_flatten_grads=False, fp16_scale_tolerance=0.0, fp16_scale_window=None, joined_dictionary=False, log_format=None, log_interval=100, lr_scheduler='fixed', memory_efficient_bf16=False, memory_efficient_fp16=False, min_loss_scale=0.0001, model_parallel_size=1, no_progress_bar=False, nwordssrc=-1, nwordstgt=-1, only_source=False, optimizer=None, padding_factor=8, plasma_path='/tmp/plasma', profile=False, quantization_config_path=None, reset_logging=False, scoring='bleu', seed=1, simul_type=None, source_lang='fr', srcdict=None, suppress_crashes=False, target_lang='en', task='translation', tensorboard_logdir=None, testpref=None, tgtdict=None, threshold_loss_scale=None, thresholdsrc=0, thresholdtgt=0, tokenizer=None, tpu=False, trainpref='iwslt17.tokenized.fr-en/train', use_plasma_view=False, user_dir=None, validpref='iwslt17.tokenized.fr-en/valid', wandb_project=None, workers=20)\n",
            "2021-04-02 04:44:58 | INFO | fairseq_cli.preprocess | [fr] Dictionary: 80760 types\n",
            "2021-04-02 04:45:11 | INFO | fairseq_cli.preprocess | [fr] iwslt17.tokenized.fr-en/train.fr: 226906 sents, 5286220 tokens, 0.0% replaced by <unk>\n",
            "2021-04-02 04:45:11 | INFO | fairseq_cli.preprocess | [fr] Dictionary: 80760 types\n",
            "2021-04-02 04:45:12 | INFO | fairseq_cli.preprocess | [fr] iwslt17.tokenized.fr-en/valid.fr: 3895 sents, 88875 tokens, 0.872% replaced by <unk>\n",
            "2021-04-02 04:45:12 | INFO | fairseq_cli.preprocess | [en] Dictionary: 63120 types\n"
          ],
          "name": "stdout"
        }
      ]
    },
    {
      "cell_type": "code",
      "metadata": {
        "id": "eUgzfwoKakDK"
      },
      "source": [
        "!wget https://github.com/pmichel31415/mtnt/releases/download/v1.1/MTNT.1.1.tar.gz"
      ],
      "execution_count": null,
      "outputs": []
    },
    {
      "cell_type": "code",
      "metadata": {
        "id": "fh-kYyZTank1"
      },
      "source": [
        "!tar -xvzf MTNT.1.1.tar.gz"
      ],
      "execution_count": null,
      "outputs": []
    },
    {
      "cell_type": "code",
      "metadata": {
        "id": "x8fUEQr1as4y"
      },
      "source": [
        "!bash MTNT/split_tsv.sh"
      ],
      "execution_count": null,
      "outputs": []
    },
    {
      "cell_type": "markdown",
      "metadata": {
        "id": "2hSm-N2xa202"
      },
      "source": [
        "Preprocessing"
      ]
    },
    {
      "cell_type": "code",
      "metadata": {
        "id": "BbQ5qFeQa5dc"
      },
      "source": [
        "!cat MTNT/train/train.fr-en.fr | mosesdecoder/scripts/tokenizer/tokenizer.perl -threads 8 -a -l en > MTNT/train/train.fr-en.tok.fr\n",
        "!cat MTNT/valid/valid.fr-en.fr | mosesdecoder/scripts/tokenizer/tokenizer.perl -threads 8 -a -l en > MTNT/valid/valid.fr-en.tok.fr\n",
        "!cat MTNT/valid/valid.fr-en.en | mosesdecoder/scripts/tokenizer/tokenizer.perl -threads 8 -a -l en > MTNT/valid/valid.fr-en.tok.en\n",
        "!cat MTNT/train/train.fr-en.en | mosesdecoder/scripts/tokenizer/tokenizer.perl -threads 8 -a -l en > MTNT/train/train.fr-en.tok.en\n",
        "!mosesdecoder/scripts/recaser/truecase.perl -model iwslt17.tokenized.fr-en/truecase-model.fr < MTNT/train/train.fr-en.tok.fr > MTNT/train/train.fr-en.tc.fr\n",
        "!mosesdecoder/scripts/recaser/truecase.perl -model iwslt17.tokenized.fr-en/truecase-model.fr < MTNT/train/train.fr-en.tok.en > MTNT/train/train.fr-en.tc.en\n",
        "!mosesdecoder/scripts/recaser/truecase.perl -model iwslt17.tokenized.fr-en/truecase-model.fr < MTNT/valid/valid.fr-en.tok.fr > MTNT/valid/valid.fr-en.tc.fr\n",
        "!mosesdecoder/scripts/recaser/truecase.perl -model iwslt17.tokenized.fr-en/truecase-model.fr < MTNT/valid/valid.fr-en.tok.en > MTNT/valid/valid.fr-en.tc.en\n",
        "!subword-nmt/subword_nmt/apply_bpe.py -c iwslt17.tokenized.fr-en/code < MTNT/train/train.fr-en.tc.fr > MTNT/train/train.fr-en.bpe.fr\n",
        "!subword-nmt/subword_nmt/apply_bpe.py -c iwslt17.tokenized.fr-en/code < MTNT/train/train.fr-en.tc.en > MTNT/train/train.fr-en.bpe.en\n",
        "!subword-nmt/subword_nmt/apply_bpe.py -c iwslt17.tokenized.fr-en/code < MTNT/valid/valid.fr-en.tc.fr > MTNT/valid/valid.fr-en.bpe.fr\n",
        "!subword-nmt/subword_nmt/apply_bpe.py -c iwslt17.tokenized.fr-en/code < MTNT/valid/valid.fr-en.tc.en > MTNT/valid/valid.fr-en.bpe.en"
      ],
      "execution_count": null,
      "outputs": []
    },
    {
      "cell_type": "markdown",
      "metadata": {
        "id": "42vQp1fIfH6k"
      },
      "source": [
        "Preprocessing"
      ]
    },
    {
      "cell_type": "code",
      "metadata": {
        "id": "Gvfe6v2efG70"
      },
      "source": [
        "!python fairseq/fairseq_cli/preprocess.py --source-lang fr --target-lang en \\\n",
        "    --trainpref MTNT/train/train.fr-en.bpe --validpref MTNT/valid/valid.fr-en.bpe \\\n",
        "    --destdir data-bin/MTNT_fr_en \\\n",
        "    --workers 20 --srcdict data-bin/iwslt17_fr_en/dict.fr.txt --tgtdict data-bin/iwslt17_fr_en/dict.en.txt"
      ],
      "execution_count": null,
      "outputs": []
    },
    {
      "cell_type": "code",
      "metadata": {
        "id": "AuKtFM4MIXwn"
      },
      "source": [
        "!python fairseq/train.py data-bin/MTNT_fr_en \\\n",
        "    --skip-invalid-size-inputs-valid-test \\\n",
        "\t--lr 0.25 --clip-norm 0.1 --dropout 0.2 \\\n",
        "\t--max-tokens 4000 \\\n",
        "\t--arch fconv_iwslt_de_en \\\n",
        "    --criterion label_smoothed_cross_entropy \\\n",
        "    --optimizer nag --label-smoothing 0.1 \\\n",
        "    --lr-scheduler fixed --force-anneal 50 \\\n",
        "\t--max-epoch 50 --patience 5 \\\n",
        "\t--save-dir checkpoint/MTNT_fr_en \\\n",
        "\t--restore-file checkpoint/iwslt17_fr_en/checkpoint_best.pt | tee log/MTNT_fr_en/train_fconv.out"
      ],
      "execution_count": null,
      "outputs": []
    },
    {
      "cell_type": "code",
      "metadata": {
        "id": "UpmzuxvXm1sA"
      },
      "source": [
        "!cat MTNT/test/test.fr-en.fr | mosesdecoder/scripts/tokenizer/tokenizer.perl -threads 8 -a -l en > MTNT/test/test.fr-en.tok.fr\n",
        "!mosesdecoder/scripts/recaser/truecase.perl -model iwslt17.tokenized.fr-en/truecase-model.fr < MTNT/test/test.fr-en.tok.fr > MTNT/test/test.fr-en.tc.fr\n",
        "!subword-nmt/subword_nmt/apply_bpe.py -c iwslt17.tokenized.fr-en/code < MTNT/test/test.fr-en.tc.fr > MTNT/test/test.fr-en.bpe.fr"
      ],
      "execution_count": null,
      "outputs": []
    },
    {
      "cell_type": "code",
      "metadata": {
        "id": "8BGLxeFUlxpH"
      },
      "source": [
        "mkdir Output"
      ],
      "execution_count": null,
      "outputs": []
    },
    {
      "cell_type": "code",
      "metadata": {
        "id": "EeOMsQcycGx4"
      },
      "source": [
        "!fairseq-interactive data-bin/MTNT_fr_en/ \\\n",
        "    --skip-invalid-size-inputs-valid-test \\\n",
        "    --path checkpoint/MTNT_fr_en/checkpoint_last.pt \\\n",
        "    --buffer-size 2000 --batch-size 128 \\\n",
        "    --beam 5 --remove-bpe \\\n",
        "    --replace-unk \\\n",
        "    --input MTNT/test/test.fr-en.bpe.fr | tee Output/MTNT.test.fr-en.en.sys"
      ],
      "execution_count": null,
      "outputs": []
    },
    {
      "cell_type": "code",
      "metadata": {
        "id": "Fd5Pr8p9dkIp"
      },
      "source": [
        "!grep ^H Output/MTNT.test.fr-en.en.sys | cut -f3- > Output/hypo.tok.sys\n"
      ],
      "execution_count": null,
      "outputs": []
    },
    {
      "cell_type": "code",
      "metadata": {
        "id": "oFKXy3LDTn-p"
      },
      "source": [
        "!sed -e 's/<\\/unk>//g' Output/hypo.tok.sys > Output/hypo.tok.sys1"
      ],
      "execution_count": null,
      "outputs": []
    },
    {
      "cell_type": "code",
      "metadata": {
        "id": "F5or7NQ2dwYu"
      },
      "source": [
        "!cat Output/hypo.tok.sys1 | mosesdecoder/scripts/recaser/detruecase.perl | mosesdecoder/scripts/tokenizer/detokenizer.perl -l en > Output/hypo.sys\n"
      ],
      "execution_count": null,
      "outputs": []
    },
    {
      "cell_type": "code",
      "metadata": {
        "id": "h0pO9q6GeBXj"
      },
      "source": [
        "!sacrebleu --tokenize=13a MTNT/test/test.fr-en.en < Output/hypo.sys"
      ],
      "execution_count": null,
      "outputs": []
    },
    {
      "cell_type": "markdown",
      "metadata": {
        "id": "VGQ9WypMWfU8"
      },
      "source": [
        "BLEU+case.mixed+numrefs.1+smooth.exp+tok.13a+version.1.4.14 = 23.9 55.2/29.9/17.9/11.0 (BP = 1.000 ratio = 1.034 hyp_len = 19421 ref_len = 18777)"
      ]
    },
    {
      "cell_type": "markdown",
      "metadata": {
        "id": "FB5qWxPo3duN"
      },
      "source": [
        "ON IWSLT"
      ]
    },
    {
      "cell_type": "code",
      "metadata": {
        "colab": {
          "base_uri": "https://localhost:8080/"
        },
        "id": "tW65R8Dy3e5m",
        "outputId": "e11900d8-0b0d-43b0-a91e-524e6ed96f5e"
      },
      "source": [
        "!fairseq-interactive data-bin/MTNT_fr_en/ \\\n",
        "    --skip-invalid-size-inputs-valid-test \\\n",
        "    --path checkpoint/MTNT_fr_en/checkpoint_last.pt \\\n",
        "    --buffer-size 2000 --batch-size 128 \\\n",
        "    --beam 5 --remove-bpe \\\n",
        "    --input iwslt17.tokenized.fr-en/test.fr | tee Output/iwslt.test.fr-en.en.sys"
      ],
      "execution_count": null,
      "outputs": [
        {
          "output_type": "stream",
          "text": [
            "2021-04-02 04:42:36 | INFO | fairseq_cli.interactive | {'_name': None, 'common': {'_name': None, 'no_progress_bar': False, 'log_interval': 100, 'log_format': None, 'tensorboard_logdir': None, 'wandb_project': None, 'azureml_logging': False, 'seed': 1, 'cpu': False, 'tpu': False, 'bf16': False, 'memory_efficient_bf16': False, 'fp16': False, 'memory_efficient_fp16': False, 'fp16_no_flatten_grads': False, 'fp16_init_scale': 128, 'fp16_scale_window': None, 'fp16_scale_tolerance': 0.0, 'min_loss_scale': 0.0001, 'threshold_loss_scale': None, 'user_dir': None, 'empty_cache_freq': 0, 'all_gather_list_size': 16384, 'model_parallel_size': 1, 'quantization_config_path': None, 'profile': False, 'reset_logging': False, 'suppress_crashes': False, 'use_plasma_view': False, 'plasma_path': '/tmp/plasma'}, 'common_eval': {'_name': None, 'path': 'checkpoint/MTNT_fr_en/checkpoint_last.pt', 'post_process': 'subword_nmt', 'quiet': False, 'model_overrides': '{}', 'results_path': None}, 'distributed_training': {'_name': None, 'distributed_world_size': 1, 'distributed_rank': 0, 'distributed_backend': 'nccl', 'distributed_init_method': None, 'distributed_port': -1, 'device_id': 0, 'distributed_no_spawn': False, 'ddp_backend': 'pytorch_ddp', 'bucket_cap_mb': 25, 'fix_batches_to_gpus': False, 'find_unused_parameters': False, 'fast_stat_sync': False, 'heartbeat_timeout': -1, 'broadcast_buffers': False, 'slowmo_momentum': None, 'slowmo_algorithm': 'LocalSGD', 'localsgd_frequency': 3, 'nprocs_per_node': 1, 'pipeline_model_parallel': False, 'pipeline_balance': None, 'pipeline_devices': None, 'pipeline_chunks': 0, 'pipeline_encoder_balance': None, 'pipeline_encoder_devices': None, 'pipeline_decoder_balance': None, 'pipeline_decoder_devices': None, 'pipeline_checkpoint': 'never', 'zero_sharding': 'none', 'fp16': False, 'memory_efficient_fp16': False, 'tpu': False, 'no_reshard_after_forward': False, 'fp32_reduce_scatter': False, 'cpu_offload': False, 'distributed_num_procs': 1}, 'dataset': {'_name': None, 'num_workers': 1, 'skip_invalid_size_inputs_valid_test': True, 'max_tokens': None, 'batch_size': 128, 'required_batch_size_multiple': 8, 'required_seq_len_multiple': 1, 'dataset_impl': None, 'data_buffer_size': 10, 'train_subset': 'train', 'valid_subset': 'valid', 'validate_interval': 1, 'validate_interval_updates': 0, 'validate_after_updates': 0, 'fixed_validation_seed': None, 'disable_validation': False, 'max_tokens_valid': None, 'batch_size_valid': 128, 'max_valid_steps': None, 'curriculum': 0, 'gen_subset': 'test', 'num_shards': 1, 'shard_id': 0}, 'optimization': {'_name': None, 'max_epoch': 0, 'max_update': 0, 'stop_time_hours': 0.0, 'clip_norm': 0.0, 'sentence_avg': False, 'update_freq': [1], 'lr': [0.25], 'stop_min_lr': -1.0, 'use_bmuf': False}, 'checkpoint': {'_name': None, 'save_dir': 'checkpoints', 'restore_file': 'checkpoint_last.pt', 'finetune_from_model': None, 'reset_dataloader': False, 'reset_lr_scheduler': False, 'reset_meters': False, 'reset_optimizer': False, 'optimizer_overrides': '{}', 'save_interval': 1, 'save_interval_updates': 0, 'keep_interval_updates': -1, 'keep_last_epochs': -1, 'keep_best_checkpoints': -1, 'no_save': False, 'no_epoch_checkpoints': False, 'no_last_checkpoints': False, 'no_save_optimizer_state': False, 'best_checkpoint_metric': 'loss', 'maximize_best_checkpoint_metric': False, 'patience': -1, 'checkpoint_suffix': '', 'checkpoint_shard_count': 1, 'load_checkpoint_on_all_dp_ranks': False, 'write_checkpoints_asynchronously': False, 'model_parallel_size': 1}, 'bmuf': {'_name': None, 'block_lr': 1.0, 'block_momentum': 0.875, 'global_sync_iter': 50, 'warmup_iterations': 500, 'use_nbm': False, 'average_sync': False, 'distributed_world_size': 1}, 'generation': {'_name': None, 'beam': 5, 'nbest': 1, 'max_len_a': 0.0, 'max_len_b': 200, 'min_len': 1, 'match_source_len': False, 'unnormalized': False, 'no_early_stop': False, 'no_beamable_mm': False, 'lenpen': 1.0, 'unkpen': 0.0, 'replace_unk': None, 'sacrebleu': False, 'score_reference': False, 'prefix_size': 0, 'no_repeat_ngram_size': 0, 'sampling': False, 'sampling_topk': -1, 'sampling_topp': -1.0, 'constraints': None, 'temperature': 1.0, 'diverse_beam_groups': -1, 'diverse_beam_strength': 0.5, 'diversity_rate': -1.0, 'print_alignment': None, 'print_step': False, 'lm_path': None, 'lm_weight': 0.0, 'iter_decode_eos_penalty': 0.0, 'iter_decode_max_iter': 10, 'iter_decode_force_max_iter': False, 'iter_decode_with_beam': 1, 'iter_decode_with_external_reranker': False, 'retain_iter_history': False, 'retain_dropout': False, 'retain_dropout_modules': None, 'decoding_format': None, 'no_seed_provided': False}, 'eval_lm': {'_name': None, 'output_word_probs': False, 'output_word_stats': False, 'context_window': 0, 'softmax_batch': 9223372036854775807}, 'interactive': {'_name': None, 'buffer_size': 2000, 'input': 'iwslt17.tokenized.fr-en/test.fr'}, 'model': None, 'task': {'_name': 'translation', 'data': 'data-bin/MTNT_fr_en/', 'source_lang': None, 'target_lang': None, 'load_alignments': False, 'left_pad_source': True, 'left_pad_target': False, 'max_source_positions': 1024, 'max_target_positions': 1024, 'upsample_primary': -1, 'truncate_source': False, 'num_batch_buckets': 0, 'train_subset': 'train', 'dataset_impl': None, 'required_seq_len_multiple': 1, 'eval_bleu': False, 'eval_bleu_args': '{}', 'eval_bleu_detok': 'space', 'eval_bleu_detok_args': '{}', 'eval_tokenized_bleu': False, 'eval_bleu_remove_bpe': None, 'eval_bleu_print_samples': False}, 'criterion': {'_name': 'cross_entropy', 'sentence_avg': True}, 'optimizer': None, 'lr_scheduler': {'_name': 'fixed', 'force_anneal': None, 'lr_shrink': 0.1, 'warmup_updates': 0, 'lr': [0.25]}, 'scoring': {'_name': 'bleu', 'pad': 1, 'eos': 2, 'unk': 3}, 'bpe': None, 'tokenizer': None, 'simul_type': None}\n",
            "Traceback (most recent call last):\n",
            "  File \"/usr/local/bin/fairseq-interactive\", line 33, in <module>\n",
            "    sys.exit(load_entry_point('fairseq', 'console_scripts', 'fairseq-interactive')())\n",
            "  File \"/content/nmt_tutorial/fairseq/fairseq_cli/interactive.py\", line 312, in cli_main\n",
            "    distributed_utils.call_main(convert_namespace_to_omegaconf(args), main)\n",
            "  File \"/content/nmt_tutorial/fairseq/fairseq/distributed/utils.py\", line 369, in call_main\n",
            "    main(cfg, **kwargs)\n",
            "  File \"/content/nmt_tutorial/fairseq/fairseq_cli/interactive.py\", line 140, in main\n",
            "    task = tasks.setup_task(cfg.task)\n",
            "  File \"/content/nmt_tutorial/fairseq/fairseq/tasks/__init__.py\", line 44, in setup_task\n",
            "    return task.setup_task(cfg, **kwargs)\n",
            "  File \"/content/nmt_tutorial/fairseq/fairseq/tasks/translation.py\", line 304, in setup_task\n",
            "    \"Could not infer language pair, please provide it explicitly\"\n",
            "Exception: Could not infer language pair, please provide it explicitly\n"
          ],
          "name": "stdout"
        }
      ]
    },
    {
      "cell_type": "code",
      "metadata": {
        "id": "pq35WZer3u2I"
      },
      "source": [
        "!grep ^H Output/iwslt.test.fr-en.en.sys | cut -f3- > Output/iwslt_hypo.tok.sys\n"
      ],
      "execution_count": null,
      "outputs": []
    },
    {
      "cell_type": "code",
      "metadata": {
        "colab": {
          "base_uri": "https://localhost:8080/"
        },
        "id": "7t_eUW5U3zkN",
        "outputId": "faeada8b-7ef0-4204-a8bd-282661cdf291"
      },
      "source": [
        "!cat Output/iwslt_hypo.tok.sys | mosesdecoder/scripts/recaser/detruecase.perl | mosesdecoder/scripts/tokenizer/detokenizer.perl -l en > Output/iwslt_hypo.sys\n"
      ],
      "execution_count": null,
      "outputs": [
        {
          "output_type": "stream",
          "text": [
            "Detokenizer Version $Revision: 4134 $\n",
            "Language: en\n"
          ],
          "name": "stdout"
        }
      ]
    },
    {
      "cell_type": "code",
      "metadata": {
        "colab": {
          "base_uri": "https://localhost:8080/"
        },
        "id": "mPjPcU0e367H",
        "outputId": "6e7ec33e-9c23-4edc-e3ba-0d8fedd86103"
      },
      "source": [
        "!sacrebleu --tokenize=13a iwslt17.tokenized.fr-en/test.en < Output/iwslt_hypo.sys"
      ],
      "execution_count": null,
      "outputs": [
        {
          "output_type": "stream",
          "text": [
            "sacreBLEU: Test set None contains no sentence\n"
          ],
          "name": "stdout"
        }
      ]
    },
    {
      "cell_type": "markdown",
      "metadata": {
        "id": "3yWkgID0W0AZ"
      },
      "source": [
        "BLEU+case.mixed+numrefs.1+smooth.exp+tok.13a+version.1.4.14 = 4.1 15.1/5.9/2.7/1.2 (BP = 1.000 ratio = 2.490 hyp_len = 75628 ref_len = 30374)\n"
      ]
    },
    {
      "cell_type": "code",
      "metadata": {
        "colab": {
          "base_uri": "https://localhost:8080/"
        },
        "id": "DiDDNVhw-nlX",
        "outputId": "309aca2c-2290-42e8-aef6-affa4a5e6907"
      },
      "source": [
        "!zip -r Output_finetuned.zip Output/"
      ],
      "execution_count": null,
      "outputs": [
        {
          "output_type": "stream",
          "text": [
            "updating: Output/ (stored 0%)\n",
            "updating: Output/hypo.tok.sys1 (stored 0%)\n",
            "updating: Output/iwslt_hypo.sys (stored 0%)\n",
            "updating: Output/MTNT.test.fr-en.en.sys (deflated 64%)\n",
            "updating: Output/hypo.sys (stored 0%)\n",
            "updating: Output/iwslt.test.fr-en.en.sys (deflated 65%)\n",
            "updating: Output/hypo.tok.sys (stored 0%)\n",
            "updating: Output/iwslt_hypo.tok.sys (stored 0%)\n"
          ],
          "name": "stdout"
        }
      ]
    }
  ]
}